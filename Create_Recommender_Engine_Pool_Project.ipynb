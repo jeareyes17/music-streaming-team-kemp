{
 "cells": [
  {
   "cell_type": "markdown",
   "metadata": {},
   "source": [
    "# Tracks Genre Classification\n",
    "\n",
    "- What does each playlist set sound like? What are their defining characteristics?\n",
    "\n",
    "- Using user-marked playlist genres as training data, can we build a model to correctly classify songs from a separate track dataset?"
   ]
  },
  {
   "cell_type": "code",
   "execution_count": 1,
   "metadata": {
    "ExecuteTime": {
     "end_time": "2020-10-12T16:35:31.736159Z",
     "start_time": "2020-10-12T16:35:31.730175Z"
    }
   },
   "outputs": [],
   "source": [
    "import pandas as pd\n",
    "import numpy as np\n",
    "\n",
    "import seaborn as sns\n",
    "import matplotlib.pyplot as plt\n",
    "%matplotlib inline"
   ]
  },
  {
   "cell_type": "markdown",
   "metadata": {},
   "source": [
    "## 1. Read the training data"
   ]
  },
  {
   "cell_type": "code",
   "execution_count": 3,
   "metadata": {
    "ExecuteTime": {
     "end_time": "2020-10-12T16:35:31.907134Z",
     "start_time": "2020-10-12T16:35:31.738152Z"
    }
   },
   "outputs": [],
   "source": [
    "#genre_names = [\"R&B\", \"Classical\", \"Country\", \"Electronic\", \"Hiphop\",\"Jazz\", \"Pop\", \"Rock\", \"Reggae\", \"Rap\"]\n",
    "genre_names = [\"folk\", \"rock\", \"hiphoprapcons\", \"country\", \"jazz\"]\n",
    "#[\"R&B\", \"Classical\", \"Country\", \"Electronic\",\"Jazz\", \"Pop\", \"Rock\", \"Rap\",\"Alternative\",\"OPM\",\"Chill\"]\n",
    "\n",
    "playlist_df_list = []\n",
    "track_df_list = []\n",
    "for genre in genre_names:\n",
    "    # read and process the playlist data for keyword\n",
    "\n",
    "    pdf = pd.read_csv('data/'+genre.lower()+'_playlist_data.csv')\n",
    "    pdf['genre'] = genre.lower().replace('&','n')\n",
    "    playlist_df_list.append(pdf)\n",
    "\n",
    "    tdf = pd.read_csv('sample/'+genre.lower()+'_playlist_tracks_data.csv')\n",
    "    tdf['genre'] = genre.lower().replace('&','n')\n",
    "    track_df_list.append(tdf)\n",
    "        \n",
    "        \n",
    "playlist_df = pd.concat(playlist_df_list)\n",
    "tracks_df = pd.concat(track_df_list)\n"
   ]
  },
  {
   "cell_type": "code",
   "execution_count": 5,
   "metadata": {
    "ExecuteTime": {
     "end_time": "2020-10-12T16:35:31.914717Z",
     "start_time": "2020-10-12T16:35:31.909693Z"
    }
   },
   "outputs": [
    {
     "data": {
      "text/plain": [
       "((553, 7), (5000, 22))"
      ]
     },
     "execution_count": 5,
     "metadata": {},
     "output_type": "execute_result"
    }
   ],
   "source": [
    "#check shape\n",
    "playlist_df.shape, tracks_df.shape"
   ]
  },
  {
   "cell_type": "code",
   "execution_count": 6,
   "metadata": {
    "ExecuteTime": {
     "end_time": "2020-10-12T16:35:31.924655Z",
     "start_time": "2020-10-12T16:35:31.916674Z"
    },
    "scrolled": true
   },
   "outputs": [
    {
     "name": "stdout",
     "output_type": "stream",
     "text": [
      "Playlist dataset columns: ['playlist_id' 'playlist_name' 'playlist_total_tracks' 'owner_id'\n",
      " 'owner_name' 'total_followers' 'genre'] \n",
      "\n",
      "Tracks dataset columns: ['track_id' 'track_name' 'artist_id' 'artist_name' 'album_id' 'duration'\n",
      " 'release_date' 'popularity' 'danceability' 'energy' 'key' 'loudness'\n",
      " 'mode' 'speechiness' 'acousticness' 'instrumentalness' 'liveness'\n",
      " 'valence' 'tempo' 'playlist_id' 'playlist_name' 'genre']\n"
     ]
    }
   ],
   "source": [
    "#check columns\n",
    "print(\"Playlist dataset columns: %s \\n\" % playlist_df.columns.values)\n",
    "print(\"Tracks dataset columns: %s\" % tracks_df.columns.values)\n"
   ]
  },
  {
   "cell_type": "code",
   "execution_count": 7,
   "metadata": {
    "ExecuteTime": {
     "end_time": "2020-10-12T16:35:31.937619Z",
     "start_time": "2020-10-12T16:35:31.925651Z"
    }
   },
   "outputs": [
    {
     "data": {
      "text/html": [
       "<div>\n",
       "<style scoped>\n",
       "    .dataframe tbody tr th:only-of-type {\n",
       "        vertical-align: middle;\n",
       "    }\n",
       "\n",
       "    .dataframe tbody tr th {\n",
       "        vertical-align: top;\n",
       "    }\n",
       "\n",
       "    .dataframe thead th {\n",
       "        text-align: right;\n",
       "    }\n",
       "</style>\n",
       "<table border=\"1\" class=\"dataframe\">\n",
       "  <thead>\n",
       "    <tr style=\"text-align: right;\">\n",
       "      <th></th>\n",
       "      <th>playlist_id</th>\n",
       "      <th>playlist_name</th>\n",
       "      <th>playlist_total_tracks</th>\n",
       "      <th>owner_id</th>\n",
       "      <th>owner_name</th>\n",
       "      <th>total_followers</th>\n",
       "      <th>genre</th>\n",
       "    </tr>\n",
       "  </thead>\n",
       "  <tbody>\n",
       "  </tbody>\n",
       "</table>\n",
       "</div>"
      ],
      "text/plain": [
       "Empty DataFrame\n",
       "Columns: [playlist_id, playlist_name, playlist_total_tracks, owner_id, owner_name, total_followers, genre]\n",
       "Index: []"
      ]
     },
     "execution_count": 7,
     "metadata": {},
     "output_type": "execute_result"
    }
   ],
   "source": [
    "#check null rows\n",
    "playlist_df[playlist_df.isnull().any(1)]\n",
    "#tracks_df[tracks_df.isnull().any(1)]\n"
   ]
  },
  {
   "cell_type": "code",
   "execution_count": 213,
   "metadata": {
    "ExecuteTime": {
     "end_time": "2020-10-12T16:35:31.963589Z",
     "start_time": "2020-10-12T16:35:31.939614Z"
    }
   },
   "outputs": [
    {
     "data": {
      "text/plain": [
       "(21673, 22)"
      ]
     },
     "execution_count": 213,
     "metadata": {},
     "output_type": "execute_result"
    }
   ],
   "source": [
    "#remove null rows\n",
    "tracks_df = tracks_df[~tracks_df.isnull().any(1)]\n",
    "tracks_df.shape"
   ]
  },
  {
   "cell_type": "code",
   "execution_count": 214,
   "metadata": {
    "ExecuteTime": {
     "end_time": "2020-10-12T16:35:31.972527Z",
     "start_time": "2020-10-12T16:35:31.964546Z"
    }
   },
   "outputs": [
    {
     "data": {
      "text/plain": [
       "18634"
      ]
     },
     "execution_count": 214,
     "metadata": {},
     "output_type": "execute_result"
    }
   ],
   "source": [
    "# How many unique tracks are in the combined dataset?\n",
    "len(tracks_df['track_id'].unique())"
   ]
  },
  {
   "cell_type": "code",
   "execution_count": 215,
   "metadata": {
    "ExecuteTime": {
     "end_time": "2020-10-12T16:35:31.988512Z",
     "start_time": "2020-10-12T16:35:31.974520Z"
    }
   },
   "outputs": [
    {
     "data": {
      "text/plain": [
       "(18634, 22)"
      ]
     },
     "execution_count": 215,
     "metadata": {},
     "output_type": "execute_result"
    }
   ],
   "source": [
    "#retain only distinct tracks per keyword\n",
    "tracks_df =tracks_df.drop_duplicates(subset='track_id')\n",
    "tracks_df.shape"
   ]
  },
  {
   "cell_type": "code",
   "execution_count": 90,
   "metadata": {
    "ExecuteTime": {
     "end_time": "2020-10-12T16:35:32.123160Z",
     "start_time": "2020-10-12T16:35:31.990477Z"
    }
   },
   "outputs": [
    {
     "data": {
      "text/plain": [
       "<matplotlib.axes._subplots.AxesSubplot at 0x213ef1b2730>"
      ]
     },
     "execution_count": 90,
     "metadata": {},
     "output_type": "execute_result"
    },
    {
     "data": {
      "image/png": "[encoded data removed]",
      "text/plain": [
       "<Figure size 432x288 with 1 Axes>"
      ]
     },
     "metadata": {
      "needs_background": "light"
     },
     "output_type": "display_data"
    }
   ],
   "source": [
    "# What is the distribution of playlist's total tracks?\n",
    "playlist_df['playlist_total_tracks'].hist()"
   ]
  },
  {
   "cell_type": "code",
   "execution_count": 216,
   "metadata": {
    "ExecuteTime": {
     "end_time": "2020-10-12T16:35:32.267737Z",
     "start_time": "2020-10-12T16:35:32.124120Z"
    }
   },
   "outputs": [
    {
     "data": {
      "text/plain": [
       "<matplotlib.axes._subplots.AxesSubplot at 0x213f0d6a880>"
      ]
     },
     "execution_count": 216,
     "metadata": {},
     "output_type": "execute_result"
    },
    {
     "data": {
      "image/png": "[encoded data removed]",
      "text/plain": [
       "<Figure size 432x288 with 1 Axes>"
      ]
     },
     "metadata": {
      "needs_background": "light"
     },
     "output_type": "display_data"
    }
   ],
   "source": [
    "# What is the distribution of playlist's total tracks?\n",
    "playlist_df['total_followers'].hist()"
   ]
  },
  {
   "cell_type": "code",
   "execution_count": 93,
   "metadata": {
    "ExecuteTime": {
     "end_time": "2020-10-12T16:35:32.277710Z",
     "start_time": "2020-10-12T16:35:32.268735Z"
    }
   },
   "outputs": [
    {
     "data": {
      "text/plain": [
       "electronic              0.151990\n",
       "classical               0.117467\n",
       "chill                   0.115209\n",
       "rock                    0.096493\n",
       "jazz                    0.079031\n",
       "rnb                     0.074916\n",
       "pop                     0.071504\n",
       "country                 0.062923\n",
       "alternative             0.057906\n",
       "opm                     0.057354\n",
       "rap                     0.050228\n",
       "philippine band         0.040092\n",
       "acoustic philippines    0.024888\n",
       "Name: genre, dtype: float64"
      ]
     },
     "execution_count": 93,
     "metadata": {},
     "output_type": "execute_result"
    }
   ],
   "source": [
    "#tally of tracks\n",
    "#tracks_df['genre'].value_counts()\n",
    "tracks_df['genre'].value_counts(normalize=True)"
   ]
  },
  {
   "cell_type": "markdown",
   "metadata": {},
   "source": [
    "## 2. Refine the training data"
   ]
  },
  {
   "cell_type": "code",
   "execution_count": 217,
   "metadata": {
    "ExecuteTime": {
     "end_time": "2020-10-12T16:35:32.296659Z",
     "start_time": "2020-10-12T16:35:32.278708Z"
    }
   },
   "outputs": [
    {
     "data": {
      "text/html": [
       "<div>\n",
       "<style scoped>\n",
       "    .dataframe tbody tr th:only-of-type {\n",
       "        vertical-align: middle;\n",
       "    }\n",
       "\n",
       "    .dataframe tbody tr th {\n",
       "        vertical-align: top;\n",
       "    }\n",
       "\n",
       "    .dataframe thead th {\n",
       "        text-align: right;\n",
       "    }\n",
       "</style>\n",
       "<table border=\"1\" class=\"dataframe\">\n",
       "  <thead>\n",
       "    <tr style=\"text-align: right;\">\n",
       "      <th></th>\n",
       "      <th>playlist_id</th>\n",
       "      <th>playlist_name</th>\n",
       "      <th>playlist_total_tracks</th>\n",
       "      <th>owner_id</th>\n",
       "      <th>owner_name</th>\n",
       "      <th>total_followers</th>\n",
       "      <th>genre</th>\n",
       "    </tr>\n",
       "  </thead>\n",
       "  <tbody>\n",
       "    <tr>\n",
       "      <th>0</th>\n",
       "      <td>37i9dQZF1DWYmmr74INQlb</td>\n",
       "      <td>I Love My '00s R&amp;B</td>\n",
       "      <td>40</td>\n",
       "      <td>spotify</td>\n",
       "      <td>Spotify</td>\n",
       "      <td>3186018</td>\n",
       "      <td>rnb</td>\n",
       "    </tr>\n",
       "    <tr>\n",
       "      <th>1</th>\n",
       "      <td>37i9dQZF1DX6VDO8a6cQME</td>\n",
       "      <td>I Love My '90s R&amp;B</td>\n",
       "      <td>45</td>\n",
       "      <td>spotify</td>\n",
       "      <td>Spotify</td>\n",
       "      <td>2386964</td>\n",
       "      <td>rnb</td>\n",
       "    </tr>\n",
       "    <tr>\n",
       "      <th>2</th>\n",
       "      <td>37i9dQZF1DX2UgsUIg75Vg</td>\n",
       "      <td>Chilled R&amp;B</td>\n",
       "      <td>50</td>\n",
       "      <td>spotify</td>\n",
       "      <td>Spotify</td>\n",
       "      <td>2030733</td>\n",
       "      <td>rnb</td>\n",
       "    </tr>\n",
       "    <tr>\n",
       "      <th>3</th>\n",
       "      <td>37i9dQZF1DWSfMe9z89s9B</td>\n",
       "      <td>Alternative R&amp;B</td>\n",
       "      <td>100</td>\n",
       "      <td>spotify</td>\n",
       "      <td>Spotify</td>\n",
       "      <td>860678</td>\n",
       "      <td>rnb</td>\n",
       "    </tr>\n",
       "    <tr>\n",
       "      <th>4</th>\n",
       "      <td>37i9dQZF1DXbirtHQBuwCo</td>\n",
       "      <td>TrenChill K-R&amp;B</td>\n",
       "      <td>50</td>\n",
       "      <td>spotify</td>\n",
       "      <td>Spotify</td>\n",
       "      <td>481187</td>\n",
       "      <td>rnb</td>\n",
       "    </tr>\n",
       "  </tbody>\n",
       "</table>\n",
       "</div>"
      ],
      "text/plain": [
       "              playlist_id       playlist_name  playlist_total_tracks owner_id  \\\n",
       "0  37i9dQZF1DWYmmr74INQlb  I Love My '00s R&B                     40  spotify   \n",
       "1  37i9dQZF1DX6VDO8a6cQME  I Love My '90s R&B                     45  spotify   \n",
       "2  37i9dQZF1DX2UgsUIg75Vg         Chilled R&B                     50  spotify   \n",
       "3  37i9dQZF1DWSfMe9z89s9B     Alternative R&B                    100  spotify   \n",
       "4  37i9dQZF1DXbirtHQBuwCo     TrenChill K-R&B                     50  spotify   \n",
       "\n",
       "  owner_name  total_followers genre  \n",
       "0    Spotify          3186018   rnb  \n",
       "1    Spotify          2386964   rnb  \n",
       "2    Spotify          2030733   rnb  \n",
       "3    Spotify           860678   rnb  \n",
       "4    Spotify           481187   rnb  "
      ]
     },
     "execution_count": 217,
     "metadata": {},
     "output_type": "execute_result"
    }
   ],
   "source": [
    "#get top playlists\n",
    "top_playlists_df = playlist_df.groupby('genre').head(5)\n",
    "top_playlists_df.head()"
   ]
  },
  {
   "cell_type": "code",
   "execution_count": 218,
   "metadata": {
    "ExecuteTime": {
     "end_time": "2020-10-12T16:35:32.311663Z",
     "start_time": "2020-10-12T16:35:32.298654Z"
    }
   },
   "outputs": [
    {
     "data": {
      "text/plain": [
       "jazz           690\n",
       "chill          649\n",
       "rock           506\n",
       "classical      476\n",
       "pop            475\n",
       "electronic     375\n",
       "rnb            281\n",
       "country        259\n",
       "rap            229\n",
       "opm            202\n",
       "alternative    183\n",
       "Name: genre, dtype: int64"
      ]
     },
     "execution_count": 218,
     "metadata": {},
     "output_type": "execute_result"
    }
   ],
   "source": [
    "tracks_df = tracks_df[tracks_df['playlist_id'].isin(top_playlists_df['playlist_id'].values)]\n",
    "tracks_df['genre'].value_counts()"
   ]
  },
  {
   "cell_type": "markdown",
   "metadata": {},
   "source": [
    "## 3. Feature Engineering"
   ]
  },
  {
   "cell_type": "markdown",
   "metadata": {},
   "source": [
    "##### Conversions/Normalizations"
   ]
  },
  {
   "cell_type": "code",
   "execution_count": 219,
   "metadata": {
    "ExecuteTime": {
     "end_time": "2020-10-12T16:35:32.317603Z",
     "start_time": "2020-10-12T16:35:32.313614Z"
    }
   },
   "outputs": [],
   "source": [
    "#convert duration from ms to mins\n",
    "tracks_df['duration_mins']=tracks_df['duration']/60000"
   ]
  },
  {
   "cell_type": "code",
   "execution_count": 220,
   "metadata": {
    "ExecuteTime": {
     "end_time": "2020-10-12T16:35:32.333560Z",
     "start_time": "2020-10-12T16:35:32.319598Z"
    }
   },
   "outputs": [
    {
     "data": {
      "text/plain": [
       "count    4325.000000\n",
       "mean        0.778958\n",
       "std         0.141308\n",
       "min         0.000000\n",
       "25%         0.724551\n",
       "50%         0.821140\n",
       "75%         0.876998\n",
       "max         1.000000\n",
       "Name: loudness, dtype: float64"
      ]
     },
     "execution_count": 220,
     "metadata": {},
     "output_type": "execute_result"
    }
   ],
   "source": [
    "#Normalize loudness\n",
    "from sklearn.preprocessing import MinMaxScaler\n",
    "scaler = MinMaxScaler()\n",
    "\n",
    "tracks_df['loudness'] = scaler.fit_transform(tracks_df[['loudness']])\n",
    "tracks_df['loudness'].describe()\n"
   ]
  },
  {
   "cell_type": "code",
   "execution_count": 221,
   "metadata": {
    "ExecuteTime": {
     "end_time": "2020-10-12T16:35:32.349518Z",
     "start_time": "2020-10-12T16:35:32.336555Z"
    }
   },
   "outputs": [
    {
     "data": {
      "text/plain": [
       "count    4325.000000\n",
       "mean        0.531189\n",
       "std         0.134849\n",
       "min         0.000000\n",
       "25%         0.416790\n",
       "50%         0.534591\n",
       "75%         0.613710\n",
       "max         1.000000\n",
       "Name: tempo, dtype: float64"
      ]
     },
     "execution_count": 221,
     "metadata": {},
     "output_type": "execute_result"
    }
   ],
   "source": [
    "#Normalize tempo\n",
    "tracks_df['tempo'] =  scaler.fit_transform(tracks_df[['tempo']])\n",
    "#check\n",
    "tracks_df['tempo'].describe()\n"
   ]
  },
  {
   "cell_type": "markdown",
   "metadata": {},
   "source": [
    "###### Categorical Encoding"
   ]
  },
  {
   "cell_type": "code",
   "execution_count": 222,
   "metadata": {
    "ExecuteTime": {
     "end_time": "2020-10-12T16:35:32.360489Z",
     "start_time": "2020-10-12T16:35:32.351515Z"
    }
   },
   "outputs": [
    {
     "data": {
      "text/plain": [
       "track_id              object\n",
       "track_name            object\n",
       "artist_id             object\n",
       "artist_name           object\n",
       "album_id              object\n",
       "duration               int64\n",
       "release_date          object\n",
       "popularity             int64\n",
       "danceability         float64\n",
       "energy               float64\n",
       "key                    int64\n",
       "loudness             float64\n",
       "mode                   int64\n",
       "speechiness          float64\n",
       "acousticness         float64\n",
       "instrumentalness     float64\n",
       "liveness             float64\n",
       "valence              float64\n",
       "tempo                float64\n",
       "playlist_id           object\n",
       "playlist_name         object\n",
       "genre               category\n",
       "duration_mins        float64\n",
       "dtype: object"
      ]
     },
     "execution_count": 222,
     "metadata": {},
     "output_type": "execute_result"
    }
   ],
   "source": [
    "tracks_df[\"genre\"] = tracks_df[\"genre\"].astype('category')\n",
    "tracks_df.dtypes"
   ]
  },
  {
   "cell_type": "code",
   "execution_count": 223,
   "metadata": {
    "ExecuteTime": {
     "end_time": "2020-10-12T16:35:32.388450Z",
     "start_time": "2020-10-12T16:35:32.362484Z"
    }
   },
   "outputs": [
    {
     "data": {
      "text/html": [
       "<div>\n",
       "<style scoped>\n",
       "    .dataframe tbody tr th:only-of-type {\n",
       "        vertical-align: middle;\n",
       "    }\n",
       "\n",
       "    .dataframe tbody tr th {\n",
       "        vertical-align: top;\n",
       "    }\n",
       "\n",
       "    .dataframe thead th {\n",
       "        text-align: right;\n",
       "    }\n",
       "</style>\n",
       "<table border=\"1\" class=\"dataframe\">\n",
       "  <thead>\n",
       "    <tr style=\"text-align: right;\">\n",
       "      <th></th>\n",
       "      <th>track_id</th>\n",
       "      <th>track_name</th>\n",
       "      <th>artist_id</th>\n",
       "      <th>artist_name</th>\n",
       "      <th>album_id</th>\n",
       "      <th>duration</th>\n",
       "      <th>release_date</th>\n",
       "      <th>popularity</th>\n",
       "      <th>danceability</th>\n",
       "      <th>energy</th>\n",
       "      <th>...</th>\n",
       "      <th>acousticness</th>\n",
       "      <th>instrumentalness</th>\n",
       "      <th>liveness</th>\n",
       "      <th>valence</th>\n",
       "      <th>tempo</th>\n",
       "      <th>playlist_id</th>\n",
       "      <th>playlist_name</th>\n",
       "      <th>genre</th>\n",
       "      <th>duration_mins</th>\n",
       "      <th>genre_id</th>\n",
       "    </tr>\n",
       "  </thead>\n",
       "  <tbody>\n",
       "    <tr>\n",
       "      <th>0</th>\n",
       "      <td>6nTcn8CybBcx0t7IaXEJ6O</td>\n",
       "      <td>Thank God I Found You (feat. Joe &amp; Nas) - Make...</td>\n",
       "      <td>4iHNK0tOyZPYnBU7nGAgpQ</td>\n",
       "      <td>Mariah Carey</td>\n",
       "      <td>6zuCJaxmHKNKN5hMDF556U</td>\n",
       "      <td>251640</td>\n",
       "      <td>2000-04-18</td>\n",
       "      <td>55</td>\n",
       "      <td>0.608</td>\n",
       "      <td>0.760</td>\n",
       "      <td>...</td>\n",
       "      <td>0.0129</td>\n",
       "      <td>0.0</td>\n",
       "      <td>0.3320</td>\n",
       "      <td>0.366</td>\n",
       "      <td>0.770222</td>\n",
       "      <td>37i9dQZF1DWYmmr74INQlb</td>\n",
       "      <td>I Love My '00s R&amp;B</td>\n",
       "      <td>rnb</td>\n",
       "      <td>4.194000</td>\n",
       "      <td>9</td>\n",
       "    </tr>\n",
       "    <tr>\n",
       "      <th>1</th>\n",
       "      <td>7FWuzwapuKHTEyDJIcQOw3</td>\n",
       "      <td>Stutter (feat. Mystikal) - Double Take Remix</td>\n",
       "      <td>3zTOe1BtyTkwNvYZOxXktX</td>\n",
       "      <td>Joe</td>\n",
       "      <td>6zuCJaxmHKNKN5hMDF556U</td>\n",
       "      <td>213026</td>\n",
       "      <td>2000-04-18</td>\n",
       "      <td>55</td>\n",
       "      <td>0.767</td>\n",
       "      <td>0.759</td>\n",
       "      <td>...</td>\n",
       "      <td>0.0513</td>\n",
       "      <td>0.0</td>\n",
       "      <td>0.3100</td>\n",
       "      <td>0.677</td>\n",
       "      <td>0.412051</td>\n",
       "      <td>37i9dQZF1DWYmmr74INQlb</td>\n",
       "      <td>I Love My '00s R&amp;B</td>\n",
       "      <td>rnb</td>\n",
       "      <td>3.550433</td>\n",
       "      <td>9</td>\n",
       "    </tr>\n",
       "    <tr>\n",
       "      <th>2</th>\n",
       "      <td>3QE7ObGjkt1kYnhLvZPRUy</td>\n",
       "      <td>Go On Girl</td>\n",
       "      <td>21E3waRsmPlU7jZsS13rcj</td>\n",
       "      <td>Ne-Yo</td>\n",
       "      <td>52q9xNv8COtSU9phlbO5sg</td>\n",
       "      <td>261426</td>\n",
       "      <td>2007-01-01</td>\n",
       "      <td>65</td>\n",
       "      <td>0.637</td>\n",
       "      <td>0.521</td>\n",
       "      <td>...</td>\n",
       "      <td>0.1550</td>\n",
       "      <td>0.0</td>\n",
       "      <td>0.0945</td>\n",
       "      <td>0.562</td>\n",
       "      <td>0.384152</td>\n",
       "      <td>37i9dQZF1DWYmmr74INQlb</td>\n",
       "      <td>I Love My '00s R&amp;B</td>\n",
       "      <td>rnb</td>\n",
       "      <td>4.357100</td>\n",
       "      <td>9</td>\n",
       "    </tr>\n",
       "    <tr>\n",
       "      <th>3</th>\n",
       "      <td>6De63WRULDaa1fxOyLilnv</td>\n",
       "      <td>Stingy</td>\n",
       "      <td>7r8RF1tN2A4CiGEplkp1oP</td>\n",
       "      <td>Ginuwine</td>\n",
       "      <td>3t4OgAvvOzvXw8D2NHUeDR</td>\n",
       "      <td>259493</td>\n",
       "      <td>2003-04-08</td>\n",
       "      <td>54</td>\n",
       "      <td>0.622</td>\n",
       "      <td>0.573</td>\n",
       "      <td>...</td>\n",
       "      <td>0.2600</td>\n",
       "      <td>0.0</td>\n",
       "      <td>0.1730</td>\n",
       "      <td>0.617</td>\n",
       "      <td>0.582125</td>\n",
       "      <td>37i9dQZF1DWYmmr74INQlb</td>\n",
       "      <td>I Love My '00s R&amp;B</td>\n",
       "      <td>rnb</td>\n",
       "      <td>4.324883</td>\n",
       "      <td>9</td>\n",
       "    </tr>\n",
       "    <tr>\n",
       "      <th>4</th>\n",
       "      <td>08fhbfRSg7eEH0IZT7pB6a</td>\n",
       "      <td>That Girl</td>\n",
       "      <td>1goOx6gnQdUllLfSMsL4Rt</td>\n",
       "      <td>Marques Houston</td>\n",
       "      <td>4sAouJxcSwPIoT5dd6Qgj7</td>\n",
       "      <td>215960</td>\n",
       "      <td>2003-10-21</td>\n",
       "      <td>53</td>\n",
       "      <td>0.683</td>\n",
       "      <td>0.552</td>\n",
       "      <td>...</td>\n",
       "      <td>0.5480</td>\n",
       "      <td>0.0</td>\n",
       "      <td>0.2210</td>\n",
       "      <td>0.519</td>\n",
       "      <td>0.453064</td>\n",
       "      <td>37i9dQZF1DWYmmr74INQlb</td>\n",
       "      <td>I Love My '00s R&amp;B</td>\n",
       "      <td>rnb</td>\n",
       "      <td>3.599333</td>\n",
       "      <td>9</td>\n",
       "    </tr>\n",
       "  </tbody>\n",
       "</table>\n",
       "<p>5 rows × 24 columns</p>\n",
       "</div>"
      ],
      "text/plain": [
       "                 track_id                                         track_name  \\\n",
       "0  6nTcn8CybBcx0t7IaXEJ6O  Thank God I Found You (feat. Joe & Nas) - Make...   \n",
       "1  7FWuzwapuKHTEyDJIcQOw3       Stutter (feat. Mystikal) - Double Take Remix   \n",
       "2  3QE7ObGjkt1kYnhLvZPRUy                                         Go On Girl   \n",
       "3  6De63WRULDaa1fxOyLilnv                                             Stingy   \n",
       "4  08fhbfRSg7eEH0IZT7pB6a                                          That Girl   \n",
       "\n",
       "                artist_id      artist_name                album_id  duration  \\\n",
       "0  4iHNK0tOyZPYnBU7nGAgpQ     Mariah Carey  6zuCJaxmHKNKN5hMDF556U    251640   \n",
       "1  3zTOe1BtyTkwNvYZOxXktX              Joe  6zuCJaxmHKNKN5hMDF556U    213026   \n",
       "2  21E3waRsmPlU7jZsS13rcj            Ne-Yo  52q9xNv8COtSU9phlbO5sg    261426   \n",
       "3  7r8RF1tN2A4CiGEplkp1oP         Ginuwine  3t4OgAvvOzvXw8D2NHUeDR    259493   \n",
       "4  1goOx6gnQdUllLfSMsL4Rt  Marques Houston  4sAouJxcSwPIoT5dd6Qgj7    215960   \n",
       "\n",
       "  release_date  popularity  danceability  energy  ...  acousticness  \\\n",
       "0   2000-04-18          55         0.608   0.760  ...        0.0129   \n",
       "1   2000-04-18          55         0.767   0.759  ...        0.0513   \n",
       "2   2007-01-01          65         0.637   0.521  ...        0.1550   \n",
       "3   2003-04-08          54         0.622   0.573  ...        0.2600   \n",
       "4   2003-10-21          53         0.683   0.552  ...        0.5480   \n",
       "\n",
       "   instrumentalness  liveness  valence     tempo             playlist_id  \\\n",
       "0               0.0    0.3320    0.366  0.770222  37i9dQZF1DWYmmr74INQlb   \n",
       "1               0.0    0.3100    0.677  0.412051  37i9dQZF1DWYmmr74INQlb   \n",
       "2               0.0    0.0945    0.562  0.384152  37i9dQZF1DWYmmr74INQlb   \n",
       "3               0.0    0.1730    0.617  0.582125  37i9dQZF1DWYmmr74INQlb   \n",
       "4               0.0    0.2210    0.519  0.453064  37i9dQZF1DWYmmr74INQlb   \n",
       "\n",
       "        playlist_name  genre  duration_mins genre_id  \n",
       "0  I Love My '00s R&B    rnb       4.194000        9  \n",
       "1  I Love My '00s R&B    rnb       3.550433        9  \n",
       "2  I Love My '00s R&B    rnb       4.357100        9  \n",
       "3  I Love My '00s R&B    rnb       4.324883        9  \n",
       "4  I Love My '00s R&B    rnb       3.599333        9  \n",
       "\n",
       "[5 rows x 24 columns]"
      ]
     },
     "execution_count": 223,
     "metadata": {},
     "output_type": "execute_result"
    }
   ],
   "source": [
    "tracks_df['genre_id'] = tracks_df[\"genre\"].cat.codes\n",
    "tracks_df.head()"
   ]
  },
  {
   "cell_type": "code",
   "execution_count": 224,
   "metadata": {
    "ExecuteTime": {
     "end_time": "2020-10-12T16:35:32.398514Z",
     "start_time": "2020-10-12T16:35:32.389410Z"
    }
   },
   "outputs": [
    {
     "data": {
      "text/plain": [
       "{9: 'rnb',\n",
       " 2: 'classical',\n",
       " 3: 'country',\n",
       " 4: 'electronic',\n",
       " 5: 'jazz',\n",
       " 7: 'pop',\n",
       " 10: 'rock',\n",
       " 8: 'rap',\n",
       " 0: 'alternative',\n",
       " 6: 'opm',\n",
       " 1: 'chill'}"
      ]
     },
     "execution_count": 224,
     "metadata": {},
     "output_type": "execute_result"
    }
   ],
   "source": [
    "genre_lookup = dict(tracks_df.groupby('genre_id').head(1)[['genre_id','genre']].values)\n",
    "genre_lookup"
   ]
  },
  {
   "cell_type": "markdown",
   "metadata": {},
   "source": [
    "## 4. Train a KNN model"
   ]
  },
  {
   "cell_type": "code",
   "execution_count": 225,
   "metadata": {
    "ExecuteTime": {
     "end_time": "2020-10-12T16:35:32.406367Z",
     "start_time": "2020-10-12T16:35:32.401380Z"
    }
   },
   "outputs": [],
   "source": [
    "from sklearn.model_selection import train_test_split, cross_val_score\n",
    "from sklearn.neighbors import KNeighborsClassifier \n",
    "from sklearn.metrics import accuracy_score,roc_curve, auc, confusion_matrix, classification_report"
   ]
  },
  {
   "cell_type": "code",
   "execution_count": null,
   "metadata": {
    "ExecuteTime": {
     "end_time": "2020-10-12T16:35:32.412351Z",
     "start_time": "2020-10-12T16:35:32.407362Z"
    }
   },
   "outputs": [],
   "source": [
    "#test plot for a genre and 2 predictors\n",
    "\n",
    "#fig = plt.figure()\n",
    "#ax= fig.add_subplot(111)\n",
    "\n",
    "#colormaps = ['Reds','Blues']\n",
    "#genre = 'pop'\n",
    "#label = [\"not \"+genre,genre]\n",
    "#for n,genre_bool in enumerate([0,1]):\n",
    "#    df=tracks_df[tracks_df['genre_'+genre]==genre_bool]\n",
    "#    sns.kdeplot(df['energy'],df['tempo'], ax=ax,\\\n",
    "#                shade=True, shade_lowest=False, alpha=0.5, cmap=colormaps[n],\\\n",
    "#                label=label[n])\n",
    "    \n",
    "#plt.legend(frameon=False)\n"
   ]
  },
  {
   "cell_type": "markdown",
   "metadata": {},
   "source": [
    "Tuning the model"
   ]
  },
  {
   "cell_type": "code",
   "execution_count": 226,
   "metadata": {
    "ExecuteTime": {
     "end_time": "2020-10-12T16:36:04.624209Z",
     "start_time": "2020-10-12T16:35:32.413347Z"
    },
    "scrolled": true
   },
   "outputs": [
    {
     "name": "stdout",
     "output_type": "stream",
     "text": [
      "\n",
      "Tuning kNN classification model with K-Fold=4...\n",
      "Shape of X_Train:(3460, 9)\n",
      "Shape of y_Train:(3460,)\n",
      "Shape of X_Test:(865, 9)\n",
      "Shape of y_Test:(865,)\n",
      "Finding best k...\n"
     ]
    },
    {
     "data": {
      "image/png": "[encoded data removed]",
      "text/plain": [
       "<Figure size 432x288 with 1 Axes>"
      ]
     },
     "metadata": {
      "needs_background": "light"
     },
     "output_type": "display_data"
    },
    {
     "name": "stdout",
     "output_type": "stream",
     "text": [
      "The optimal number of neighbors is 22 with score 45%\n",
      "\n",
      "Tuning kNN classification model with K-Fold=5...\n",
      "Shape of X_Train:(3460, 9)\n",
      "Shape of y_Train:(3460,)\n",
      "Shape of X_Test:(865, 9)\n",
      "Shape of y_Test:(865,)\n",
      "Finding best k...\n"
     ]
    },
    {
     "data": {
      "image/png": "[encoded data removed]",
      "text/plain": [
       "<Figure size 432x288 with 1 Axes>"
      ]
     },
     "metadata": {
      "needs_background": "light"
     },
     "output_type": "display_data"
    },
    {
     "name": "stdout",
     "output_type": "stream",
     "text": [
      "The optimal number of neighbors is 44 with score 46%\n",
      "\n",
      "Tuning kNN classification model with K-Fold=8...\n",
      "Shape of X_Train:(3460, 9)\n",
      "Shape of y_Train:(3460,)\n",
      "Shape of X_Test:(865, 9)\n",
      "Shape of y_Test:(865,)\n",
      "Finding best k...\n"
     ]
    },
    {
     "data": {
      "image/png": "[encoded data removed]",
      "text/plain": [
       "<Figure size 432x288 with 1 Axes>"
      ]
     },
     "metadata": {
      "needs_background": "light"
     },
     "output_type": "display_data"
    },
    {
     "name": "stdout",
     "output_type": "stream",
     "text": [
      "The optimal number of neighbors is 37 with score 45%\n",
      "\n",
      "Tuning kNN classification model with K-Fold=10...\n",
      "Shape of X_Train:(3460, 9)\n",
      "Shape of y_Train:(3460,)\n",
      "Shape of X_Test:(865, 9)\n",
      "Shape of y_Test:(865,)\n",
      "Finding best k...\n"
     ]
    },
    {
     "data": {
      "image/png": "[encoded data removed]",
      "text/plain": [
       "<Figure size 432x288 with 1 Axes>"
      ]
     },
     "metadata": {
      "needs_background": "light"
     },
     "output_type": "display_data"
    },
    {
     "name": "stdout",
     "output_type": "stream",
     "text": [
      "The optimal number of neighbors is 24 with score 46%\n"
     ]
    }
   ],
   "source": [
    "#Select audio features to use for the model\n",
    "feature_cols = ['danceability', 'energy', 'loudness', 'speechiness', 'acousticness', 'instrumentalness',\\\n",
    "                'liveness', 'valence', 'tempo']\n",
    "results_optimal_k = []\n",
    "\n",
    "kfolds= [4,5,8,10]\n",
    "\n",
    "for d in kfolds:\n",
    "    print('\\nTuning kNN classification model with K-Fold=%d...' % d)\n",
    "    # create feature matrix (X)\n",
    "    X = tracks_df[feature_cols]\n",
    "    y = tracks_df['genre_id']\n",
    "\n",
    "    # creating training set, test set and checking shapes \n",
    "    X_train,X_test,Y_train,Y_test = train_test_split(X,y, test_size=0.2)\n",
    "    print(\"Shape of X_Train:\"+str(X_train.shape))\n",
    "    print(\"Shape of y_Train:\"+str(Y_train.shape))\n",
    "    print(\"Shape of X_Test:\"+str(X_test.shape))\n",
    "    print(\"Shape of y_Test:\"+str(Y_test.shape))\n",
    "    \n",
    "    #train model\n",
    "    cv_scores = []\n",
    "    neighbors=np.arange(2,51)\n",
    "    print('Finding best k...')\n",
    "    \n",
    "    #Perform KNN using K= [1..50] and validate using k-fold k = 5\n",
    "    for k in neighbors:\n",
    "        #print('Fitting for k=%d' % k)\n",
    "        knn = KNeighborsClassifier(n_neighbors=k)\n",
    "        scores = cross_val_score(knn, X_train, Y_train, cv=5, scoring='accuracy')\n",
    "        cv_scores.append(scores.mean())\n",
    "        \n",
    "    # changeto misclassification error\n",
    "    mse = [1 - x for x in cv_scores]\n",
    "\n",
    "    # determining best k\n",
    "    optimal_k = neighbors[mse.index(min(mse))]\n",
    "    results_optimal_k.append(optimal_k)\n",
    "    \n",
    "    knn_optimal = KNeighborsClassifier(n_neighbors=k)\n",
    "    knn_optimal.fit(X, y)\n",
    "    # plot misclassification error vs k\n",
    "    plt.plot(neighbors, mse)\n",
    "    plt.xlabel(\"Number of Neighbors K\")\n",
    "    plt.ylabel(\"Misclassification Error\")\n",
    "    plt.show()\n",
    "    \n",
    "    print(\"The optimal number of neighbors is %d with score %d%%\" % (optimal_k, 100*(1-min(mse))))\n"
   ]
  },
  {
   "cell_type": "code",
   "execution_count": 227,
   "metadata": {
    "ExecuteTime": {
     "end_time": "2020-10-12T16:36:04.632185Z",
     "start_time": "2020-10-12T16:36:04.626203Z"
    }
   },
   "outputs": [
    {
     "data": {
      "text/plain": [
       "[22, 44, 37, 24]"
      ]
     },
     "execution_count": 227,
     "metadata": {},
     "output_type": "execute_result"
    }
   ],
   "source": [
    "#results_optimal_k = [38, 33, 17, 21, 13, 46, 26, 27, 10, 26]\n",
    "results_optimal_k"
   ]
  },
  {
   "cell_type": "markdown",
   "metadata": {},
   "source": [
    "## 5. Model Prediction"
   ]
  },
  {
   "cell_type": "code",
   "execution_count": 228,
   "metadata": {
    "ExecuteTime": {
     "end_time": "2020-10-12T17:48:18.867539Z",
     "start_time": "2020-10-12T17:48:18.834573Z"
    },
    "scrolled": true
   },
   "outputs": [
    {
     "data": {
      "text/html": [
       "<div>\n",
       "<style scoped>\n",
       "    .dataframe tbody tr th:only-of-type {\n",
       "        vertical-align: middle;\n",
       "    }\n",
       "\n",
       "    .dataframe tbody tr th {\n",
       "        vertical-align: top;\n",
       "    }\n",
       "\n",
       "    .dataframe thead th {\n",
       "        text-align: right;\n",
       "    }\n",
       "</style>\n",
       "<table border=\"1\" class=\"dataframe\">\n",
       "  <thead>\n",
       "    <tr style=\"text-align: right;\">\n",
       "      <th></th>\n",
       "      <th>track_id</th>\n",
       "      <th>track_name</th>\n",
       "      <th>artist_id</th>\n",
       "      <th>artist_name</th>\n",
       "      <th>album_id</th>\n",
       "      <th>duration</th>\n",
       "      <th>release_date</th>\n",
       "      <th>popularity</th>\n",
       "      <th>danceability</th>\n",
       "      <th>energy</th>\n",
       "      <th>key</th>\n",
       "      <th>loudness</th>\n",
       "      <th>mode</th>\n",
       "      <th>speechiness</th>\n",
       "      <th>acousticness</th>\n",
       "      <th>instrumentalness</th>\n",
       "      <th>liveness</th>\n",
       "      <th>valence</th>\n",
       "      <th>tempo</th>\n",
       "    </tr>\n",
       "  </thead>\n",
       "  <tbody>\n",
       "    <tr>\n",
       "      <th>0</th>\n",
       "      <td>6IdEQ3HUseBeRUYFSzSMdL</td>\n",
       "      <td>Zebbiana</td>\n",
       "      <td>117XFtbZPnCI1EYKjYZWJc</td>\n",
       "      <td>Skusta Clee</td>\n",
       "      <td>4AaygWd1ZnCzZ4ak9EM23s</td>\n",
       "      <td>304664</td>\n",
       "      <td>2019-07-26</td>\n",
       "      <td>64</td>\n",
       "      <td>0.677</td>\n",
       "      <td>0.433</td>\n",
       "      <td>8</td>\n",
       "      <td>-8.518</td>\n",
       "      <td>1</td>\n",
       "      <td>0.0370</td>\n",
       "      <td>0.5450</td>\n",
       "      <td>0.000000</td>\n",
       "      <td>0.1050</td>\n",
       "      <td>0.498</td>\n",
       "      <td>134.006</td>\n",
       "    </tr>\n",
       "    <tr>\n",
       "      <th>1</th>\n",
       "      <td>6v3KW9xbzN5yKLt9YKDYA2</td>\n",
       "      <td>Señorita</td>\n",
       "      <td>7n2wHs1TKAczGzO7Dd2rGr</td>\n",
       "      <td>Shawn Mendes</td>\n",
       "      <td>0xzScN8P3hQAz3BT3YYX5w</td>\n",
       "      <td>190799</td>\n",
       "      <td>2019-06-19</td>\n",
       "      <td>82</td>\n",
       "      <td>0.759</td>\n",
       "      <td>0.548</td>\n",
       "      <td>9</td>\n",
       "      <td>-6.049</td>\n",
       "      <td>0</td>\n",
       "      <td>0.0290</td>\n",
       "      <td>0.0392</td>\n",
       "      <td>0.000000</td>\n",
       "      <td>0.0828</td>\n",
       "      <td>0.749</td>\n",
       "      <td>116.967</td>\n",
       "    </tr>\n",
       "    <tr>\n",
       "      <th>2</th>\n",
       "      <td>1dGr1c8CrMLDpV6mPbImSI</td>\n",
       "      <td>Lover</td>\n",
       "      <td>06HL4z0CvFAxyc27GXpf02</td>\n",
       "      <td>Taylor Swift</td>\n",
       "      <td>1NAmidJlEaVgA3MpcPFYGq</td>\n",
       "      <td>221306</td>\n",
       "      <td>2019-08-23</td>\n",
       "      <td>79</td>\n",
       "      <td>0.359</td>\n",
       "      <td>0.543</td>\n",
       "      <td>7</td>\n",
       "      <td>-7.582</td>\n",
       "      <td>1</td>\n",
       "      <td>0.0919</td>\n",
       "      <td>0.4920</td>\n",
       "      <td>0.000016</td>\n",
       "      <td>0.1180</td>\n",
       "      <td>0.453</td>\n",
       "      <td>68.534</td>\n",
       "    </tr>\n",
       "    <tr>\n",
       "      <th>3</th>\n",
       "      <td>0gDRtumoR9ZrvAlnniToMz</td>\n",
       "      <td>Ikaw At Ako</td>\n",
       "      <td>0rZRTXEmmPmx6gt92tBqIc</td>\n",
       "      <td>Moira Dela Torre</td>\n",
       "      <td>397zfeJ75BlnjfUEkgtwlG</td>\n",
       "      <td>269876</td>\n",
       "      <td>2019-01-14</td>\n",
       "      <td>64</td>\n",
       "      <td>0.445</td>\n",
       "      <td>0.355</td>\n",
       "      <td>4</td>\n",
       "      <td>-7.351</td>\n",
       "      <td>1</td>\n",
       "      <td>0.0289</td>\n",
       "      <td>0.8870</td>\n",
       "      <td>0.001790</td>\n",
       "      <td>0.3220</td>\n",
       "      <td>0.366</td>\n",
       "      <td>135.525</td>\n",
       "    </tr>\n",
       "    <tr>\n",
       "      <th>4</th>\n",
       "      <td>5l9g7py8RCblcvbZgGQgSd</td>\n",
       "      <td>Pagtingin</td>\n",
       "      <td>4DAcJXcjX0zlQAZAPAx4Zb</td>\n",
       "      <td>Ben&amp;Ben</td>\n",
       "      <td>7xCcuTA3abKwxj8HwgxP7R</td>\n",
       "      <td>227370</td>\n",
       "      <td>2019-05-12</td>\n",
       "      <td>68</td>\n",
       "      <td>0.669</td>\n",
       "      <td>0.420</td>\n",
       "      <td>2</td>\n",
       "      <td>-8.464</td>\n",
       "      <td>1</td>\n",
       "      <td>0.0253</td>\n",
       "      <td>0.5060</td>\n",
       "      <td>0.000000</td>\n",
       "      <td>0.4040</td>\n",
       "      <td>0.523</td>\n",
       "      <td>95.049</td>\n",
       "    </tr>\n",
       "  </tbody>\n",
       "</table>\n",
       "</div>"
      ],
      "text/plain": [
       "                 track_id   track_name               artist_id  \\\n",
       "0  6IdEQ3HUseBeRUYFSzSMdL     Zebbiana  117XFtbZPnCI1EYKjYZWJc   \n",
       "1  6v3KW9xbzN5yKLt9YKDYA2     Señorita  7n2wHs1TKAczGzO7Dd2rGr   \n",
       "2  1dGr1c8CrMLDpV6mPbImSI        Lover  06HL4z0CvFAxyc27GXpf02   \n",
       "3  0gDRtumoR9ZrvAlnniToMz  Ikaw At Ako  0rZRTXEmmPmx6gt92tBqIc   \n",
       "4  5l9g7py8RCblcvbZgGQgSd    Pagtingin  4DAcJXcjX0zlQAZAPAx4Zb   \n",
       "\n",
       "        artist_name                album_id  duration release_date  \\\n",
       "0       Skusta Clee  4AaygWd1ZnCzZ4ak9EM23s    304664   2019-07-26   \n",
       "1      Shawn Mendes  0xzScN8P3hQAz3BT3YYX5w    190799   2019-06-19   \n",
       "2      Taylor Swift  1NAmidJlEaVgA3MpcPFYGq    221306   2019-08-23   \n",
       "3  Moira Dela Torre  397zfeJ75BlnjfUEkgtwlG    269876   2019-01-14   \n",
       "4           Ben&Ben  7xCcuTA3abKwxj8HwgxP7R    227370   2019-05-12   \n",
       "\n",
       "   popularity  danceability  energy  key  loudness  mode  speechiness  \\\n",
       "0          64         0.677   0.433    8    -8.518     1       0.0370   \n",
       "1          82         0.759   0.548    9    -6.049     0       0.0290   \n",
       "2          79         0.359   0.543    7    -7.582     1       0.0919   \n",
       "3          64         0.445   0.355    4    -7.351     1       0.0289   \n",
       "4          68         0.669   0.420    2    -8.464     1       0.0253   \n",
       "\n",
       "   acousticness  instrumentalness  liveness  valence    tempo  \n",
       "0        0.5450          0.000000    0.1050    0.498  134.006  \n",
       "1        0.0392          0.000000    0.0828    0.749  116.967  \n",
       "2        0.4920          0.000016    0.1180    0.453   68.534  \n",
       "3        0.8870          0.001790    0.3220    0.366  135.525  \n",
       "4        0.5060          0.000000    0.4040    0.523   95.049  "
      ]
     },
     "execution_count": 228,
     "metadata": {},
     "output_type": "execute_result"
    }
   ],
   "source": [
    "chart_tracks_df = pd.read_csv(\"data/spotify_daily_charts_tracks.csv\")\n",
    "chart_tracks_df.head()"
   ]
  },
  {
   "cell_type": "code",
   "execution_count": 229,
   "metadata": {
    "ExecuteTime": {
     "end_time": "2020-10-12T17:48:19.167896Z",
     "start_time": "2020-10-12T17:48:19.154702Z"
    }
   },
   "outputs": [],
   "source": [
    "#normalize loudness and tempo\n",
    "chart_tracks_df['loudness'] = scaler.fit_transform(chart_tracks_df[['loudness']])\n",
    "chart_tracks_df['tempo'] =  scaler.fit_transform(chart_tracks_df[['tempo']])"
   ]
  },
  {
   "cell_type": "markdown",
   "metadata": {},
   "source": [
    "Test the model with external data by predicting the genres of the spotify charting tracks!"
   ]
  },
  {
   "cell_type": "code",
   "execution_count": 231,
   "metadata": {
    "ExecuteTime": {
     "end_time": "2020-10-12T17:48:26.905646Z",
     "start_time": "2020-10-12T17:48:19.757995Z"
    },
    "scrolled": true
   },
   "outputs": [
    {
     "name": "stdout",
     "output_type": "stream",
     "text": [
      "Predicting with optimal k: 24\n"
     ]
    }
   ],
   "source": [
    "#Predict genres of the spotify charts\n",
    "feature_cols = ['danceability', 'energy', 'loudness', 'speechiness', 'acousticness', 'instrumentalness',\\\n",
    "               'liveness', 'valence', 'tempo']\n",
    "genres = [genre_lookup[i] for i in np.arange(len(genre_names))]\n",
    "\n",
    "n=3 #pick kfold=10\n",
    "print(\"Predicting with optimal k: %d\" %(results_optimal_k[n]))\n",
    "\n",
    "knn_optimal = KNeighborsClassifier(n_neighbors=results_optimal_k[n])\n",
    "X = tracks_df[feature_cols]\n",
    "y = tracks_df['genre_id']\n",
    "knn_optimal.fit(X, y)\n",
    "\n",
    "chart_tracks_df['predicted_genre_id'] = chart_tracks_df.apply(lambda x:  knn_optimal.predict(x[feature_cols].values.reshape(1,-1))[0]\\\n",
    "                                               , axis=1)\n",
    "chart_tracks_df['predicted_genre'] = chart_tracks_df['predicted_genre_id'].apply(lambda x: genre_lookup[x])\n",
    "chart_tracks_df['predicted_genre_prob'] = chart_tracks_df.apply(lambda x:  np.max(knn_optimal.predict_proba(x[feature_cols].values.reshape(1,-1)))\\\n",
    "                                                    , axis=1)\n",
    "chart_tracks_df['all_genre_prob'] = chart_tracks_df.apply(lambda x:  knn_optimal.predict_proba(x[feature_cols].values.reshape(1,-1))[0]\\\n",
    "                                                    , axis=1)\n"
   ]
  },
  {
   "cell_type": "code",
   "execution_count": 232,
   "metadata": {
    "ExecuteTime": {
     "end_time": "2020-10-12T17:48:26.946851Z",
     "start_time": "2020-10-12T17:48:26.907572Z"
    },
    "scrolled": true
   },
   "outputs": [
    {
     "data": {
      "text/html": [
       "<div>\n",
       "<style scoped>\n",
       "    .dataframe tbody tr th:only-of-type {\n",
       "        vertical-align: middle;\n",
       "    }\n",
       "\n",
       "    .dataframe tbody tr th {\n",
       "        vertical-align: top;\n",
       "    }\n",
       "\n",
       "    .dataframe thead th {\n",
       "        text-align: right;\n",
       "    }\n",
       "</style>\n",
       "<table border=\"1\" class=\"dataframe\">\n",
       "  <thead>\n",
       "    <tr style=\"text-align: right;\">\n",
       "      <th></th>\n",
       "      <th>track_id</th>\n",
       "      <th>track_name</th>\n",
       "      <th>artist_id</th>\n",
       "      <th>artist_name</th>\n",
       "      <th>album_id</th>\n",
       "      <th>duration</th>\n",
       "      <th>release_date</th>\n",
       "      <th>popularity</th>\n",
       "      <th>danceability</th>\n",
       "      <th>energy</th>\n",
       "      <th>...</th>\n",
       "      <th>predicted_chill_prob</th>\n",
       "      <th>predicted_classical_prob</th>\n",
       "      <th>predicted_country_prob</th>\n",
       "      <th>predicted_electronic_prob</th>\n",
       "      <th>predicted_jazz_prob</th>\n",
       "      <th>predicted_opm_prob</th>\n",
       "      <th>predicted_pop_prob</th>\n",
       "      <th>predicted_rap_prob</th>\n",
       "      <th>predicted_rnb_prob</th>\n",
       "      <th>predicted_rock_prob</th>\n",
       "    </tr>\n",
       "  </thead>\n",
       "  <tbody>\n",
       "    <tr>\n",
       "      <th>883</th>\n",
       "      <td>61lfBHo44YaBIhAx1031CP</td>\n",
       "      <td>dear P</td>\n",
       "      <td>0Vw76uk7P8yVtTClWyOhac</td>\n",
       "      <td>HONNE</td>\n",
       "      <td>3DG5MS8iKYcJROCnb1DYDf</td>\n",
       "      <td>61426</td>\n",
       "      <td>2020-07-03</td>\n",
       "      <td>51</td>\n",
       "      <td>0.304</td>\n",
       "      <td>0.1540</td>\n",
       "      <td>...</td>\n",
       "      <td>0.000000</td>\n",
       "      <td>1.000000</td>\n",
       "      <td>0.000000</td>\n",
       "      <td>0.0</td>\n",
       "      <td>0.000000</td>\n",
       "      <td>0.000000</td>\n",
       "      <td>0.000000</td>\n",
       "      <td>0.0</td>\n",
       "      <td>0.0</td>\n",
       "      <td>0.000000</td>\n",
       "    </tr>\n",
       "    <tr>\n",
       "      <th>97</th>\n",
       "      <td>6wdCelHrPh7UfliNjwRTUv</td>\n",
       "      <td>Leaves</td>\n",
       "      <td>4DAcJXcjX0zlQAZAPAx4Zb</td>\n",
       "      <td>Ben&amp;Ben</td>\n",
       "      <td>5Yl1Bi501CuE72jaVK4e3y</td>\n",
       "      <td>310708</td>\n",
       "      <td>2017-03-31</td>\n",
       "      <td>69</td>\n",
       "      <td>0.447</td>\n",
       "      <td>0.1600</td>\n",
       "      <td>...</td>\n",
       "      <td>0.000000</td>\n",
       "      <td>0.083333</td>\n",
       "      <td>0.000000</td>\n",
       "      <td>0.0</td>\n",
       "      <td>0.833333</td>\n",
       "      <td>0.041667</td>\n",
       "      <td>0.041667</td>\n",
       "      <td>0.0</td>\n",
       "      <td>0.0</td>\n",
       "      <td>0.000000</td>\n",
       "    </tr>\n",
       "    <tr>\n",
       "      <th>445</th>\n",
       "      <td>6LivYvzWanzTQm8Tm3aTsa</td>\n",
       "      <td>Pasko Na Sinta Ko</td>\n",
       "      <td>0RHiqaoRCsFLPeEuj3OQz4</td>\n",
       "      <td>Gary Valenciano</td>\n",
       "      <td>1xi5bo7CCSxIVySX4dLknK</td>\n",
       "      <td>246735</td>\n",
       "      <td>1996</td>\n",
       "      <td>48</td>\n",
       "      <td>0.279</td>\n",
       "      <td>0.0824</td>\n",
       "      <td>...</td>\n",
       "      <td>0.000000</td>\n",
       "      <td>0.833333</td>\n",
       "      <td>0.000000</td>\n",
       "      <td>0.0</td>\n",
       "      <td>0.166667</td>\n",
       "      <td>0.000000</td>\n",
       "      <td>0.000000</td>\n",
       "      <td>0.0</td>\n",
       "      <td>0.0</td>\n",
       "      <td>0.000000</td>\n",
       "    </tr>\n",
       "    <tr>\n",
       "      <th>504</th>\n",
       "      <td>4AQzk2yNWKs6sYhZi6NzVN</td>\n",
       "      <td>Me &amp; You Together Song</td>\n",
       "      <td>3mIj9lX2MWuHmhNCA7LSCW</td>\n",
       "      <td>The 1975</td>\n",
       "      <td>6RicVnt1SB39xCjG81RUDo</td>\n",
       "      <td>209500</td>\n",
       "      <td>2020-01-16</td>\n",
       "      <td>62</td>\n",
       "      <td>0.272</td>\n",
       "      <td>0.7630</td>\n",
       "      <td>...</td>\n",
       "      <td>0.000000</td>\n",
       "      <td>0.000000</td>\n",
       "      <td>0.041667</td>\n",
       "      <td>0.0</td>\n",
       "      <td>0.000000</td>\n",
       "      <td>0.000000</td>\n",
       "      <td>0.083333</td>\n",
       "      <td>0.0</td>\n",
       "      <td>0.0</td>\n",
       "      <td>0.750000</td>\n",
       "    </tr>\n",
       "    <tr>\n",
       "      <th>961</th>\n",
       "      <td>08fa9LFcFBTcilB3iq2e2A</td>\n",
       "      <td>epiphany</td>\n",
       "      <td>06HL4z0CvFAxyc27GXpf02</td>\n",
       "      <td>Taylor Swift</td>\n",
       "      <td>2fenSS68JI1h4Fo296JfGr</td>\n",
       "      <td>289749</td>\n",
       "      <td>2020-07-24</td>\n",
       "      <td>76</td>\n",
       "      <td>0.354</td>\n",
       "      <td>0.2670</td>\n",
       "      <td>...</td>\n",
       "      <td>0.041667</td>\n",
       "      <td>0.083333</td>\n",
       "      <td>0.000000</td>\n",
       "      <td>0.0</td>\n",
       "      <td>0.750000</td>\n",
       "      <td>0.041667</td>\n",
       "      <td>0.000000</td>\n",
       "      <td>0.0</td>\n",
       "      <td>0.0</td>\n",
       "      <td>0.083333</td>\n",
       "    </tr>\n",
       "  </tbody>\n",
       "</table>\n",
       "<p>5 rows × 33 columns</p>\n",
       "</div>"
      ],
      "text/plain": [
       "                   track_id              track_name               artist_id  \\\n",
       "883  61lfBHo44YaBIhAx1031CP                  dear P  0Vw76uk7P8yVtTClWyOhac   \n",
       "97   6wdCelHrPh7UfliNjwRTUv                  Leaves  4DAcJXcjX0zlQAZAPAx4Zb   \n",
       "445  6LivYvzWanzTQm8Tm3aTsa       Pasko Na Sinta Ko  0RHiqaoRCsFLPeEuj3OQz4   \n",
       "504  4AQzk2yNWKs6sYhZi6NzVN  Me & You Together Song  3mIj9lX2MWuHmhNCA7LSCW   \n",
       "961  08fa9LFcFBTcilB3iq2e2A                epiphany  06HL4z0CvFAxyc27GXpf02   \n",
       "\n",
       "         artist_name                album_id  duration release_date  \\\n",
       "883            HONNE  3DG5MS8iKYcJROCnb1DYDf     61426   2020-07-03   \n",
       "97           Ben&Ben  5Yl1Bi501CuE72jaVK4e3y    310708   2017-03-31   \n",
       "445  Gary Valenciano  1xi5bo7CCSxIVySX4dLknK    246735         1996   \n",
       "504         The 1975  6RicVnt1SB39xCjG81RUDo    209500   2020-01-16   \n",
       "961     Taylor Swift  2fenSS68JI1h4Fo296JfGr    289749   2020-07-24   \n",
       "\n",
       "     popularity  danceability  energy  ...  predicted_chill_prob  \\\n",
       "883          51         0.304  0.1540  ...              0.000000   \n",
       "97           69         0.447  0.1600  ...              0.000000   \n",
       "445          48         0.279  0.0824  ...              0.000000   \n",
       "504          62         0.272  0.7630  ...              0.000000   \n",
       "961          76         0.354  0.2670  ...              0.041667   \n",
       "\n",
       "     predicted_classical_prob  predicted_country_prob  \\\n",
       "883                  1.000000                0.000000   \n",
       "97                   0.083333                0.000000   \n",
       "445                  0.833333                0.000000   \n",
       "504                  0.000000                0.041667   \n",
       "961                  0.083333                0.000000   \n",
       "\n",
       "     predicted_electronic_prob  predicted_jazz_prob  predicted_opm_prob  \\\n",
       "883                        0.0             0.000000            0.000000   \n",
       "97                         0.0             0.833333            0.041667   \n",
       "445                        0.0             0.166667            0.000000   \n",
       "504                        0.0             0.000000            0.000000   \n",
       "961                        0.0             0.750000            0.041667   \n",
       "\n",
       "     predicted_pop_prob  predicted_rap_prob  predicted_rnb_prob  \\\n",
       "883            0.000000                 0.0                 0.0   \n",
       "97             0.041667                 0.0                 0.0   \n",
       "445            0.000000                 0.0                 0.0   \n",
       "504            0.083333                 0.0                 0.0   \n",
       "961            0.000000                 0.0                 0.0   \n",
       "\n",
       "     predicted_rock_prob  \n",
       "883             0.000000  \n",
       "97              0.000000  \n",
       "445             0.000000  \n",
       "504             0.750000  \n",
       "961             0.083333  \n",
       "\n",
       "[5 rows x 33 columns]"
      ]
     },
     "execution_count": 232,
     "metadata": {},
     "output_type": "execute_result"
    }
   ],
   "source": [
    "#explode genre probabilities into separate columns\n",
    "charts_predicted_genre_prob = pd.DataFrame(chart_tracks_df[\"all_genre_prob\"].to_list(),\n",
    "                                           columns=['predicted_'+g+'_prob' for g in genres])\n",
    "charts_predicted_genre_prob['track_id'] = chart_tracks_df['track_id']\n",
    "chart_tracks_df = pd.merge(chart_tracks_df,charts_predicted_genre_prob, how='left', on='track_id')\n",
    "chart_tracks_df = chart_tracks_df.drop(columns='all_genre_prob')\n",
    "chart_tracks_df = chart_tracks_df.sort_values('predicted_genre_prob', ascending=False)\n",
    "chart_tracks_df.head()"
   ]
  },
  {
   "cell_type": "markdown",
   "metadata": {},
   "source": [
    "Check out tracks with highest assigned probability"
   ]
  },
  {
   "cell_type": "code",
   "execution_count": 233,
   "metadata": {
    "ExecuteTime": {
     "end_time": "2020-10-12T17:48:26.972791Z",
     "start_time": "2020-10-12T17:48:26.948846Z"
    }
   },
   "outputs": [
    {
     "data": {
      "text/html": [
       "<div>\n",
       "<style scoped>\n",
       "    .dataframe tbody tr th:only-of-type {\n",
       "        vertical-align: middle;\n",
       "    }\n",
       "\n",
       "    .dataframe tbody tr th {\n",
       "        vertical-align: top;\n",
       "    }\n",
       "\n",
       "    .dataframe thead th {\n",
       "        text-align: right;\n",
       "    }\n",
       "</style>\n",
       "<table border=\"1\" class=\"dataframe\">\n",
       "  <thead>\n",
       "    <tr style=\"text-align: right;\">\n",
       "      <th></th>\n",
       "      <th>artist_name</th>\n",
       "      <th>track_name</th>\n",
       "      <th>predicted_genre</th>\n",
       "      <th>predicted_genre_prob</th>\n",
       "    </tr>\n",
       "  </thead>\n",
       "  <tbody>\n",
       "    <tr>\n",
       "      <th>883</th>\n",
       "      <td>HONNE</td>\n",
       "      <td>dear P</td>\n",
       "      <td>classical</td>\n",
       "      <td>1.000000</td>\n",
       "    </tr>\n",
       "    <tr>\n",
       "      <th>97</th>\n",
       "      <td>Ben&amp;Ben</td>\n",
       "      <td>Leaves</td>\n",
       "      <td>jazz</td>\n",
       "      <td>0.833333</td>\n",
       "    </tr>\n",
       "    <tr>\n",
       "      <th>445</th>\n",
       "      <td>Gary Valenciano</td>\n",
       "      <td>Pasko Na Sinta Ko</td>\n",
       "      <td>classical</td>\n",
       "      <td>0.833333</td>\n",
       "    </tr>\n",
       "    <tr>\n",
       "      <th>504</th>\n",
       "      <td>The 1975</td>\n",
       "      <td>Me &amp; You Together Song</td>\n",
       "      <td>rock</td>\n",
       "      <td>0.750000</td>\n",
       "    </tr>\n",
       "    <tr>\n",
       "      <th>961</th>\n",
       "      <td>Taylor Swift</td>\n",
       "      <td>epiphany</td>\n",
       "      <td>jazz</td>\n",
       "      <td>0.750000</td>\n",
       "    </tr>\n",
       "    <tr>\n",
       "      <th>549</th>\n",
       "      <td>Billie Eilish</td>\n",
       "      <td>No Time To Die</td>\n",
       "      <td>jazz</td>\n",
       "      <td>0.708333</td>\n",
       "    </tr>\n",
       "    <tr>\n",
       "      <th>521</th>\n",
       "      <td>Billie Eilish</td>\n",
       "      <td>when the party's over</td>\n",
       "      <td>jazz</td>\n",
       "      <td>0.708333</td>\n",
       "    </tr>\n",
       "    <tr>\n",
       "      <th>704</th>\n",
       "      <td>Gary Valenciano</td>\n",
       "      <td>Lead Me Lord</td>\n",
       "      <td>jazz</td>\n",
       "      <td>0.666667</td>\n",
       "    </tr>\n",
       "    <tr>\n",
       "      <th>407</th>\n",
       "      <td>Mariah Carey</td>\n",
       "      <td>Christmas (Baby Please Come Home)</td>\n",
       "      <td>rock</td>\n",
       "      <td>0.666667</td>\n",
       "    </tr>\n",
       "    <tr>\n",
       "      <th>885</th>\n",
       "      <td>HONNE</td>\n",
       "      <td>loving you is so easy</td>\n",
       "      <td>rock</td>\n",
       "      <td>0.666667</td>\n",
       "    </tr>\n",
       "    <tr>\n",
       "      <th>754</th>\n",
       "      <td>Eraserheads</td>\n",
       "      <td>Alapaap</td>\n",
       "      <td>rock</td>\n",
       "      <td>0.666667</td>\n",
       "    </tr>\n",
       "    <tr>\n",
       "      <th>811</th>\n",
       "      <td>Lady Gaga</td>\n",
       "      <td>Chromatica II</td>\n",
       "      <td>classical</td>\n",
       "      <td>0.666667</td>\n",
       "    </tr>\n",
       "    <tr>\n",
       "      <th>12</th>\n",
       "      <td>Taylor Swift</td>\n",
       "      <td>Cruel Summer</td>\n",
       "      <td>country</td>\n",
       "      <td>0.625000</td>\n",
       "    </tr>\n",
       "    <tr>\n",
       "      <th>151</th>\n",
       "      <td>Backstreet Boys</td>\n",
       "      <td>Shape of My Heart</td>\n",
       "      <td>country</td>\n",
       "      <td>0.625000</td>\n",
       "    </tr>\n",
       "    <tr>\n",
       "      <th>443</th>\n",
       "      <td>Bing Crosby</td>\n",
       "      <td>White Christmas</td>\n",
       "      <td>classical</td>\n",
       "      <td>0.625000</td>\n",
       "    </tr>\n",
       "    <tr>\n",
       "      <th>313</th>\n",
       "      <td>My Chemical Romance</td>\n",
       "      <td>Welcome to the Black Parade</td>\n",
       "      <td>rock</td>\n",
       "      <td>0.625000</td>\n",
       "    </tr>\n",
       "    <tr>\n",
       "      <th>887</th>\n",
       "      <td>HONNE</td>\n",
       "      <td>can’t bear to be without you</td>\n",
       "      <td>chill</td>\n",
       "      <td>0.625000</td>\n",
       "    </tr>\n",
       "    <tr>\n",
       "      <th>876</th>\n",
       "      <td>Ben&amp;Ben</td>\n",
       "      <td>Nakikinig Ka Ba Sa Akin</td>\n",
       "      <td>opm</td>\n",
       "      <td>0.583333</td>\n",
       "    </tr>\n",
       "    <tr>\n",
       "      <th>991</th>\n",
       "      <td>Cardi B</td>\n",
       "      <td>WAP (feat. Megan Thee Stallion)</td>\n",
       "      <td>rap</td>\n",
       "      <td>0.583333</td>\n",
       "    </tr>\n",
       "    <tr>\n",
       "      <th>814</th>\n",
       "      <td>Lady Gaga</td>\n",
       "      <td>Chromatica I</td>\n",
       "      <td>chill</td>\n",
       "      <td>0.583333</td>\n",
       "    </tr>\n",
       "    <tr>\n",
       "      <th>138</th>\n",
       "      <td>Lil Tecca</td>\n",
       "      <td>Ransom</td>\n",
       "      <td>rap</td>\n",
       "      <td>0.583333</td>\n",
       "    </tr>\n",
       "    <tr>\n",
       "      <th>155</th>\n",
       "      <td>Khalid</td>\n",
       "      <td>Better</td>\n",
       "      <td>chill</td>\n",
       "      <td>0.583333</td>\n",
       "    </tr>\n",
       "    <tr>\n",
       "      <th>1009</th>\n",
       "      <td>BTS</td>\n",
       "      <td>Dynamite - Instrumental</td>\n",
       "      <td>electronic</td>\n",
       "      <td>0.583333</td>\n",
       "    </tr>\n",
       "    <tr>\n",
       "      <th>1037</th>\n",
       "      <td>Jose Mari Chan</td>\n",
       "      <td>It Is the Lord!</td>\n",
       "      <td>classical</td>\n",
       "      <td>0.583333</td>\n",
       "    </tr>\n",
       "    <tr>\n",
       "      <th>821</th>\n",
       "      <td>TWICE</td>\n",
       "      <td>OXYGEN</td>\n",
       "      <td>pop</td>\n",
       "      <td>0.541667</td>\n",
       "    </tr>\n",
       "    <tr>\n",
       "      <th>489</th>\n",
       "      <td>Future</td>\n",
       "      <td>Life Is Good (feat. Drake)</td>\n",
       "      <td>rap</td>\n",
       "      <td>0.541667</td>\n",
       "    </tr>\n",
       "    <tr>\n",
       "      <th>829</th>\n",
       "      <td>TWICE</td>\n",
       "      <td>OXYGEN</td>\n",
       "      <td>pop</td>\n",
       "      <td>0.541667</td>\n",
       "    </tr>\n",
       "    <tr>\n",
       "      <th>379</th>\n",
       "      <td>U2</td>\n",
       "      <td>With Or Without You - Remastered</td>\n",
       "      <td>chill</td>\n",
       "      <td>0.541667</td>\n",
       "    </tr>\n",
       "    <tr>\n",
       "      <th>1013</th>\n",
       "      <td>BTS</td>\n",
       "      <td>Dynamite - EDM Remix</td>\n",
       "      <td>electronic</td>\n",
       "      <td>0.541667</td>\n",
       "    </tr>\n",
       "    <tr>\n",
       "      <th>931</th>\n",
       "      <td>One Direction</td>\n",
       "      <td>Story of My Life</td>\n",
       "      <td>pop</td>\n",
       "      <td>0.500000</td>\n",
       "    </tr>\n",
       "    <tr>\n",
       "      <th>328</th>\n",
       "      <td>Billie Eilish</td>\n",
       "      <td>everything i wanted</td>\n",
       "      <td>chill</td>\n",
       "      <td>0.500000</td>\n",
       "    </tr>\n",
       "    <tr>\n",
       "      <th>862</th>\n",
       "      <td>SEVENTEEN</td>\n",
       "      <td>I Wish</td>\n",
       "      <td>country</td>\n",
       "      <td>0.500000</td>\n",
       "    </tr>\n",
       "    <tr>\n",
       "      <th>278</th>\n",
       "      <td>Secondhand Serenade</td>\n",
       "      <td>Fall for You (Acoustic)</td>\n",
       "      <td>opm</td>\n",
       "      <td>0.500000</td>\n",
       "    </tr>\n",
       "    <tr>\n",
       "      <th>304</th>\n",
       "      <td>Kanye West</td>\n",
       "      <td>Use This Gospel</td>\n",
       "      <td>opm</td>\n",
       "      <td>0.500000</td>\n",
       "    </tr>\n",
       "    <tr>\n",
       "      <th>771</th>\n",
       "      <td>TOMORROW X TOGETHER</td>\n",
       "      <td>Can't You See Me?</td>\n",
       "      <td>country</td>\n",
       "      <td>0.500000</td>\n",
       "    </tr>\n",
       "    <tr>\n",
       "      <th>176</th>\n",
       "      <td>BLACKPINK</td>\n",
       "      <td>DDU-DU DDU-DU</td>\n",
       "      <td>electronic</td>\n",
       "      <td>0.500000</td>\n",
       "    </tr>\n",
       "    <tr>\n",
       "      <th>655</th>\n",
       "      <td>Yerin Baek</td>\n",
       "      <td>Here I Am Again</td>\n",
       "      <td>opm</td>\n",
       "      <td>0.500000</td>\n",
       "    </tr>\n",
       "    <tr>\n",
       "      <th>398</th>\n",
       "      <td>Red Velvet</td>\n",
       "      <td>Psycho</td>\n",
       "      <td>pop</td>\n",
       "      <td>0.500000</td>\n",
       "    </tr>\n",
       "    <tr>\n",
       "      <th>400</th>\n",
       "      <td>Kelly Clarkson</td>\n",
       "      <td>Underneath the Tree</td>\n",
       "      <td>country</td>\n",
       "      <td>0.500000</td>\n",
       "    </tr>\n",
       "    <tr>\n",
       "      <th>437</th>\n",
       "      <td>Liam Payne</td>\n",
       "      <td>All I Want (For Christmas)</td>\n",
       "      <td>opm</td>\n",
       "      <td>0.500000</td>\n",
       "    </tr>\n",
       "    <tr>\n",
       "      <th>86</th>\n",
       "      <td>Michael Pangilinan</td>\n",
       "      <td>Bakit Ba Ikaw</td>\n",
       "      <td>pop</td>\n",
       "      <td>0.458333</td>\n",
       "    </tr>\n",
       "    <tr>\n",
       "      <th>458</th>\n",
       "      <td>Bruno Mars</td>\n",
       "      <td>That's What I Like</td>\n",
       "      <td>rnb</td>\n",
       "      <td>0.458333</td>\n",
       "    </tr>\n",
       "    <tr>\n",
       "      <th>464</th>\n",
       "      <td>DJ Snake</td>\n",
       "      <td>Taki Taki (feat. Selena Gomez, Ozuna &amp; Cardi B)</td>\n",
       "      <td>rap</td>\n",
       "      <td>0.458333</td>\n",
       "    </tr>\n",
       "    <tr>\n",
       "      <th>459</th>\n",
       "      <td>KAROL G</td>\n",
       "      <td>Tusa</td>\n",
       "      <td>rap</td>\n",
       "      <td>0.458333</td>\n",
       "    </tr>\n",
       "    <tr>\n",
       "      <th>812</th>\n",
       "      <td>Lady Gaga</td>\n",
       "      <td>Enigma</td>\n",
       "      <td>electronic</td>\n",
       "      <td>0.416667</td>\n",
       "    </tr>\n",
       "    <tr>\n",
       "      <th>643</th>\n",
       "      <td>The Weeknd</td>\n",
       "      <td>Too Late</td>\n",
       "      <td>electronic</td>\n",
       "      <td>0.416667</td>\n",
       "    </tr>\n",
       "    <tr>\n",
       "      <th>877</th>\n",
       "      <td>Audrey Mika</td>\n",
       "      <td>Just Friends</td>\n",
       "      <td>rnb</td>\n",
       "      <td>0.416667</td>\n",
       "    </tr>\n",
       "    <tr>\n",
       "      <th>916</th>\n",
       "      <td>Rich Brian</td>\n",
       "      <td>Love In My Pocket</td>\n",
       "      <td>rnb</td>\n",
       "      <td>0.416667</td>\n",
       "    </tr>\n",
       "    <tr>\n",
       "      <th>523</th>\n",
       "      <td>Justin Bieber</td>\n",
       "      <td>Get Me</td>\n",
       "      <td>rnb</td>\n",
       "      <td>0.375000</td>\n",
       "    </tr>\n",
       "    <tr>\n",
       "      <th>10</th>\n",
       "      <td>Ed Sheeran</td>\n",
       "      <td>I Don't Care (with Justin Bieber)</td>\n",
       "      <td>rnb</td>\n",
       "      <td>0.375000</td>\n",
       "    </tr>\n",
       "    <tr>\n",
       "      <th>32</th>\n",
       "      <td>Lil Nas X</td>\n",
       "      <td>Old Town Road - Remix</td>\n",
       "      <td>alternative</td>\n",
       "      <td>0.250000</td>\n",
       "    </tr>\n",
       "    <tr>\n",
       "      <th>31</th>\n",
       "      <td>I Belong to the Zoo</td>\n",
       "      <td>Balang Araw</td>\n",
       "      <td>alternative</td>\n",
       "      <td>0.208333</td>\n",
       "    </tr>\n",
       "    <tr>\n",
       "      <th>415</th>\n",
       "      <td>Jonas Brothers</td>\n",
       "      <td>Like It's Christmas</td>\n",
       "      <td>alternative</td>\n",
       "      <td>0.208333</td>\n",
       "    </tr>\n",
       "  </tbody>\n",
       "</table>\n",
       "</div>"
      ],
      "text/plain": [
       "              artist_name                                       track_name  \\\n",
       "883                 HONNE                                           dear P   \n",
       "97                Ben&Ben                                           Leaves   \n",
       "445       Gary Valenciano                                Pasko Na Sinta Ko   \n",
       "504              The 1975                           Me & You Together Song   \n",
       "961          Taylor Swift                                         epiphany   \n",
       "549         Billie Eilish                                   No Time To Die   \n",
       "521         Billie Eilish                            when the party's over   \n",
       "704       Gary Valenciano                                     Lead Me Lord   \n",
       "407          Mariah Carey                Christmas (Baby Please Come Home)   \n",
       "885                 HONNE                            loving you is so easy   \n",
       "754           Eraserheads                                          Alapaap   \n",
       "811             Lady Gaga                                    Chromatica II   \n",
       "12           Taylor Swift                                     Cruel Summer   \n",
       "151       Backstreet Boys                                Shape of My Heart   \n",
       "443           Bing Crosby                                  White Christmas   \n",
       "313   My Chemical Romance                      Welcome to the Black Parade   \n",
       "887                 HONNE                     can’t bear to be without you   \n",
       "876               Ben&Ben                          Nakikinig Ka Ba Sa Akin   \n",
       "991               Cardi B                  WAP (feat. Megan Thee Stallion)   \n",
       "814             Lady Gaga                                     Chromatica I   \n",
       "138             Lil Tecca                                           Ransom   \n",
       "155                Khalid                                           Better   \n",
       "1009                  BTS                          Dynamite - Instrumental   \n",
       "1037       Jose Mari Chan                                  It Is the Lord!   \n",
       "821                 TWICE                                           OXYGEN   \n",
       "489                Future                       Life Is Good (feat. Drake)   \n",
       "829                 TWICE                                           OXYGEN   \n",
       "379                    U2                 With Or Without You - Remastered   \n",
       "1013                  BTS                             Dynamite - EDM Remix   \n",
       "931         One Direction                                 Story of My Life   \n",
       "328         Billie Eilish                              everything i wanted   \n",
       "862             SEVENTEEN                                           I Wish   \n",
       "278   Secondhand Serenade                          Fall for You (Acoustic)   \n",
       "304            Kanye West                                  Use This Gospel   \n",
       "771   TOMORROW X TOGETHER                                Can't You See Me?   \n",
       "176             BLACKPINK                                    DDU-DU DDU-DU   \n",
       "655            Yerin Baek                                  Here I Am Again   \n",
       "398            Red Velvet                                           Psycho   \n",
       "400        Kelly Clarkson                              Underneath the Tree   \n",
       "437            Liam Payne                       All I Want (For Christmas)   \n",
       "86     Michael Pangilinan                                    Bakit Ba Ikaw   \n",
       "458            Bruno Mars                               That's What I Like   \n",
       "464              DJ Snake  Taki Taki (feat. Selena Gomez, Ozuna & Cardi B)   \n",
       "459               KAROL G                                             Tusa   \n",
       "812             Lady Gaga                                           Enigma   \n",
       "643            The Weeknd                                         Too Late   \n",
       "877           Audrey Mika                                     Just Friends   \n",
       "916            Rich Brian                                Love In My Pocket   \n",
       "523         Justin Bieber                                           Get Me   \n",
       "10             Ed Sheeran                I Don't Care (with Justin Bieber)   \n",
       "32              Lil Nas X                            Old Town Road - Remix   \n",
       "31    I Belong to the Zoo                                      Balang Araw   \n",
       "415        Jonas Brothers                              Like It's Christmas   \n",
       "\n",
       "     predicted_genre  predicted_genre_prob  \n",
       "883        classical              1.000000  \n",
       "97              jazz              0.833333  \n",
       "445        classical              0.833333  \n",
       "504             rock              0.750000  \n",
       "961             jazz              0.750000  \n",
       "549             jazz              0.708333  \n",
       "521             jazz              0.708333  \n",
       "704             jazz              0.666667  \n",
       "407             rock              0.666667  \n",
       "885             rock              0.666667  \n",
       "754             rock              0.666667  \n",
       "811        classical              0.666667  \n",
       "12           country              0.625000  \n",
       "151          country              0.625000  \n",
       "443        classical              0.625000  \n",
       "313             rock              0.625000  \n",
       "887            chill              0.625000  \n",
       "876              opm              0.583333  \n",
       "991              rap              0.583333  \n",
       "814            chill              0.583333  \n",
       "138              rap              0.583333  \n",
       "155            chill              0.583333  \n",
       "1009      electronic              0.583333  \n",
       "1037       classical              0.583333  \n",
       "821              pop              0.541667  \n",
       "489              rap              0.541667  \n",
       "829              pop              0.541667  \n",
       "379            chill              0.541667  \n",
       "1013      electronic              0.541667  \n",
       "931              pop              0.500000  \n",
       "328            chill              0.500000  \n",
       "862          country              0.500000  \n",
       "278              opm              0.500000  \n",
       "304              opm              0.500000  \n",
       "771          country              0.500000  \n",
       "176       electronic              0.500000  \n",
       "655              opm              0.500000  \n",
       "398              pop              0.500000  \n",
       "400          country              0.500000  \n",
       "437              opm              0.500000  \n",
       "86               pop              0.458333  \n",
       "458              rnb              0.458333  \n",
       "464              rap              0.458333  \n",
       "459              rap              0.458333  \n",
       "812       electronic              0.416667  \n",
       "643       electronic              0.416667  \n",
       "877              rnb              0.416667  \n",
       "916              rnb              0.416667  \n",
       "523              rnb              0.375000  \n",
       "10               rnb              0.375000  \n",
       "32       alternative              0.250000  \n",
       "31       alternative              0.208333  \n",
       "415      alternative              0.208333  "
      ]
     },
     "execution_count": 233,
     "metadata": {},
     "output_type": "execute_result"
    }
   ],
   "source": [
    "chart_tracks_df.groupby('predicted_genre_id').head()[['artist_name','track_name','predicted_genre','predicted_genre_prob']]"
   ]
  },
  {
   "cell_type": "markdown",
   "metadata": {},
   "source": [
    "View histogram of predicted genre probabilities"
   ]
  },
  {
   "cell_type": "code",
   "execution_count": 234,
   "metadata": {
    "ExecuteTime": {
     "end_time": "2020-10-12T17:48:27.233631Z",
     "start_time": "2020-10-12T17:48:26.975774Z"
    }
   },
   "outputs": [
    {
     "data": {
      "text/plain": [
       "<matplotlib.axes._subplots.AxesSubplot at 0x213ee9504f0>"
      ]
     },
     "execution_count": 234,
     "metadata": {},
     "output_type": "execute_result"
    },
    {
     "data": {
      "image/png": "[encoded data removed]",
      "text/plain": [
       "<Figure size 432x288 with 1 Axes>"
      ]
     },
     "metadata": {
      "needs_background": "light"
     },
     "output_type": "display_data"
    }
   ],
   "source": [
    "chart_tracks_df['predicted_genre_prob'].hist()"
   ]
  },
  {
   "cell_type": "markdown",
   "metadata": {
    "ExecuteTime": {
     "end_time": "2020-10-12T17:44:50.844307Z",
     "start_time": "2020-10-12T17:44:50.836325Z"
    }
   },
   "source": [
    "Check out tally of predicted genres"
   ]
  },
  {
   "cell_type": "code",
   "execution_count": 235,
   "metadata": {
    "ExecuteTime": {
     "end_time": "2020-10-12T17:48:27.241606Z",
     "start_time": "2020-10-12T17:48:27.234626Z"
    }
   },
   "outputs": [
    {
     "data": {
      "text/plain": [
       "pop            254\n",
       "rock           212\n",
       "country        135\n",
       "jazz           134\n",
       "opm             90\n",
       "chill           76\n",
       "rnb             63\n",
       "rap             54\n",
       "electronic      32\n",
       "classical        8\n",
       "alternative      3\n",
       "Name: predicted_genre, dtype: int64"
      ]
     },
     "execution_count": 235,
     "metadata": {},
     "output_type": "execute_result"
    }
   ],
   "source": [
    "chart_tracks_df['predicted_genre'].value_counts()"
   ]
  },
  {
   "cell_type": "markdown",
   "metadata": {},
   "source": [
    ">Q **Spot Check**: Check out a song you're familiar with and see if the predicted genres and probabilities makes sense"
   ]
  },
  {
   "cell_type": "code",
   "execution_count": 236,
   "metadata": {
    "ExecuteTime": {
     "end_time": "2020-10-12T17:48:27.271526Z",
     "start_time": "2020-10-12T17:48:27.242605Z"
    }
   },
   "outputs": [
    {
     "data": {
      "text/html": [
       "<div>\n",
       "<style scoped>\n",
       "    .dataframe tbody tr th:only-of-type {\n",
       "        vertical-align: middle;\n",
       "    }\n",
       "\n",
       "    .dataframe tbody tr th {\n",
       "        vertical-align: top;\n",
       "    }\n",
       "\n",
       "    .dataframe thead th {\n",
       "        text-align: right;\n",
       "    }\n",
       "</style>\n",
       "<table border=\"1\" class=\"dataframe\">\n",
       "  <thead>\n",
       "    <tr style=\"text-align: right;\">\n",
       "      <th></th>\n",
       "      <th>track_id</th>\n",
       "      <th>track_name</th>\n",
       "      <th>artist_id</th>\n",
       "      <th>artist_name</th>\n",
       "      <th>album_id</th>\n",
       "      <th>duration</th>\n",
       "      <th>release_date</th>\n",
       "      <th>popularity</th>\n",
       "      <th>danceability</th>\n",
       "      <th>energy</th>\n",
       "      <th>...</th>\n",
       "      <th>predicted_chill_prob</th>\n",
       "      <th>predicted_classical_prob</th>\n",
       "      <th>predicted_country_prob</th>\n",
       "      <th>predicted_electronic_prob</th>\n",
       "      <th>predicted_jazz_prob</th>\n",
       "      <th>predicted_opm_prob</th>\n",
       "      <th>predicted_pop_prob</th>\n",
       "      <th>predicted_rap_prob</th>\n",
       "      <th>predicted_rnb_prob</th>\n",
       "      <th>predicted_rock_prob</th>\n",
       "    </tr>\n",
       "  </thead>\n",
       "  <tbody>\n",
       "    <tr>\n",
       "      <th>13</th>\n",
       "      <td>1yDiru08Q6omDOGkZMPnei</td>\n",
       "      <td>Maybe The Night</td>\n",
       "      <td>4DAcJXcjX0zlQAZAPAx4Zb</td>\n",
       "      <td>Ben&amp;Ben</td>\n",
       "      <td>6LhZ3QMHGJeTes9cCTxK8e</td>\n",
       "      <td>217197</td>\n",
       "      <td>2017-10-27</td>\n",
       "      <td>71</td>\n",
       "      <td>0.572</td>\n",
       "      <td>0.522</td>\n",
       "      <td>...</td>\n",
       "      <td>0.125</td>\n",
       "      <td>0.0</td>\n",
       "      <td>0.25</td>\n",
       "      <td>0.0</td>\n",
       "      <td>0.041667</td>\n",
       "      <td>0.041667</td>\n",
       "      <td>0.041667</td>\n",
       "      <td>0.083333</td>\n",
       "      <td>0.041667</td>\n",
       "      <td>0.333333</td>\n",
       "    </tr>\n",
       "  </tbody>\n",
       "</table>\n",
       "<p>1 rows × 33 columns</p>\n",
       "</div>"
      ],
      "text/plain": [
       "                  track_id       track_name               artist_id  \\\n",
       "13  1yDiru08Q6omDOGkZMPnei  Maybe The Night  4DAcJXcjX0zlQAZAPAx4Zb   \n",
       "\n",
       "   artist_name                album_id  duration release_date  popularity  \\\n",
       "13     Ben&Ben  6LhZ3QMHGJeTes9cCTxK8e    217197   2017-10-27          71   \n",
       "\n",
       "    danceability  energy  ...  predicted_chill_prob  predicted_classical_prob  \\\n",
       "13         0.572   0.522  ...                 0.125                       0.0   \n",
       "\n",
       "    predicted_country_prob  predicted_electronic_prob  predicted_jazz_prob  \\\n",
       "13                    0.25                        0.0             0.041667   \n",
       "\n",
       "    predicted_opm_prob  predicted_pop_prob  predicted_rap_prob  \\\n",
       "13            0.041667            0.041667            0.083333   \n",
       "\n",
       "    predicted_rnb_prob  predicted_rock_prob  \n",
       "13            0.041667             0.333333  \n",
       "\n",
       "[1 rows x 33 columns]"
      ]
     },
     "execution_count": 236,
     "metadata": {},
     "output_type": "execute_result"
    }
   ],
   "source": [
    "chart_tracks_df[chart_tracks_df['track_name']=='Maybe The Night']"
   ]
  },
  {
   "cell_type": "code",
   "execution_count": 237,
   "metadata": {
    "ExecuteTime": {
     "end_time": "2020-10-12T17:48:27.341376Z",
     "start_time": "2020-10-12T17:48:27.272524Z"
    }
   },
   "outputs": [],
   "source": [
    "#save data\n",
    "chart_tracks_df.to_csv(\"data/spotify_daily_charts_tracks_predicted_genres.csv\", index=False, encoding='utf-8')"
   ]
  },
  {
   "cell_type": "markdown",
   "metadata": {},
   "source": [
    "## Caveats\n",
    "1. Using playlist names as genre tags heavily rely on *user opinion* and not *extracted music features* (compare this from the methods used in the [GTZAN genre collection dataset](https://data-flair.training/blogs/python-project-music-genre-classification/)\n",
    "2. Playlists with dual genre names exists, and appear quite often in the dataset (e.g. Electronic Pop, Classical Rock)\n",
    "3. Although a dominant genre could be readily observed, recent music tend to incorporate many genres at a time and thus create less distinction when the model looks at the audio features.\n",
    "\n",
    ">Q: What other caveats could you deduce from the steps done above?\n"
   ]
  },
  {
   "cell_type": "markdown",
   "metadata": {},
   "source": [
    "## Model Improvement\n",
    "To enhance the model accuracy, try to do the following:\n",
    "1. Pick \"purer\" top-followed playlists for the training data. A quick way to do this is to pick playlists that contain pre 2000's music as majority as these are less hybridized than more recent songs.\n",
    "2. Try fewer but broader genres as categories (4-5 genres)\n",
    "3. Remove outlier songs! These are the songs that dont fit its playlist's description. A bit subjective (and tedious!).\n",
    "4. Limit the features used as predictors (could be inferred from the list of genres you're considering)\n"
   ]
  },
  {
   "cell_type": "markdown",
   "metadata": {},
   "source": [
    "## Day Deliverable\n",
    "*A. For your individual curiosities*\n",
    "1. Choose your own set of genres to be used as prediction values of the KNN model. You may select among the ones listed above or a completely new one (but you must already have the scraped playlist and tracks data for this new genre) \n",
    "\n",
    "2. Choose the features you want to use for the classification. Start by using all and then narrow down by removing one feature at a time and checking if the accuracy increases.\n",
    "\n",
    "3. Check if the model works by using it to predict genres of the spotify_daily_charts_tracks dataset. Do some spot checks and view the songs classified with the highest probabilities per genre\n",
    "\n",
    "\n",
    "*B. For your sprint project*\n",
    "4. Extract a tracks dataset that is relevant to the client you are targeting. \n",
    "   For example:\n",
    "    - A client artist's full discography\n",
    "    - Tracks from a popular playlist in spotify that your client artist appears in\n",
    "    - Discographies of prospect artists to collaborate with \n",
    "    - Popular tracks of the genre that your client artist is targeting to enter\n",
    "    \n",
    "    \n",
    "5. Using the model you tuned in (A), predict the genres of the tracks in (B.4). \n",
    "\n",
    "6. Do some spot checks and view the songs classified with the highest probabilities per genre. \n",
    "   What does the predicted classifications reveal about your tracks dataset?\n",
    "   \n",
    "\n"
   ]
  },
  {
   "cell_type": "code",
   "execution_count": null,
   "metadata": {},
   "outputs": [],
   "source": []
  }
 ],
 "metadata": {
  "kernelspec": {
   "display_name": "Python 3",
   "language": "python",
   "name": "python3"
  },
  "language_info": {
   "codemirror_mode": {
    "name": "ipython",
    "version": 3
   },
   "file_extension": ".py",
   "mimetype": "text/x-python",
   "name": "python",
   "nbconvert_exporter": "python",
   "pygments_lexer": "ipython3",
   "version": "3.8.3"
  }
 },
 "nbformat": 4,
 "nbformat_minor": 2
}
