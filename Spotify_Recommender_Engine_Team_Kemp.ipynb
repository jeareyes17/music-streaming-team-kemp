{
 "cells": [
  {
   "cell_type": "code",
   "execution_count": 1,
   "metadata": {},
   "outputs": [],
   "source": [
    "import pandas as pd\n",
    "import numpy as np\n",
    "\n",
    "import seaborn as sns\n",
    "import matplotlib.pyplot as plt\n",
    "\n",
    "import streamlit as st\n",
    "import streamlit.components.v1 as components\n",
    "\n",
    "from sklearn.preprocessing import MinMaxScaler\n"
   ]
  },
  {
   "cell_type": "code",
   "execution_count": 2,
   "metadata": {},
   "outputs": [
    {
     "data": {
      "text/plain": [
       "<streamlit.delta_generator.DeltaGenerator at 0x1e5ee3a2cd0>"
      ]
     },
     "execution_count": 2,
     "metadata": {},
     "output_type": "execute_result"
    }
   ],
   "source": [
    "st.title('Spotify Playlist Recommender Engine')\n"
   ]
  },
  {
   "cell_type": "code",
   "execution_count": 3,
   "metadata": {},
   "outputs": [
    {
     "data": {
      "text/plain": [
       "'\\n# Music Streaming Analysis\\nSuppose a group of friends aspires to be successful like Ben&Ben\\nwho have constantly topped the charts in Spotify, what could be done\\nto help them rapidly increase exposure to finally get their big break?\\n'"
      ]
     },
     "execution_count": 3,
     "metadata": {},
     "output_type": "execute_result"
    }
   ],
   "source": [
    "\"\"\"\n",
    "# Music Streaming Analysis\n",
    "Suppose a group of friends aspires to be successful like Ben&Ben\n",
    "who have constantly topped the charts in Spotify, what could be done\n",
    "to help them rapidly increase exposure to finally get their big break?\n",
    "\"\"\""
   ]
  },
  {
   "cell_type": "code",
   "execution_count": 4,
   "metadata": {},
   "outputs": [],
   "source": [
    "section = st.sidebar.radio(\"Sections\",\n",
    "    (\"Methodology\",\"Exploratory Data Analysis\",\"Data and Tools\",\"Modelling for Genre Classfication\",\"Evaluation\",\\\n",
    "    \"Recommender Engine\",\"Strategy\"))"
   ]
  },
  {
   "cell_type": "code",
   "execution_count": 5,
   "metadata": {},
   "outputs": [],
   "source": [
    "if section == \"Methodology\":\n",
    "    st.subheader('Methodology')\n",
    "    st.write('A playlist is recommended based on the results from the KNN and SVM analysis to check the accuracy of the model')"
   ]
  },
  {
   "cell_type": "code",
   "execution_count": 6,
   "metadata": {},
   "outputs": [],
   "source": [
    "if section ==\"Exploratory Data Analysis\":\n",
    "    st.subheader('Exploratory Data Analysis')"
   ]
  },
  {
   "cell_type": "code",
   "execution_count": 7,
   "metadata": {},
   "outputs": [],
   "source": [
    "if section == \"Data and Tools\":\n",
    "    st.subheader('Data and Tools')\n",
    "    st.markdown(\"<ul>\"\\\n",
    "                \"<li>One year of data is extracted from Spotify from September 2019 to August 20</li>\"\\\n",
    "                \"<li>From the data, the characteristics of viral and mainstay songs are identified based on their audio features.</li>\"\\\n",
    "                \"<li>Genre Classification is performed as an input for the Recommender Engine</li>\"\\\n",
    "                \"<li>The Recommender Engine is used to suggest which genre can the hypothetical band can jam with</li>\"\n",
    "                \"</ul>\",unsafe_allow_html=True)\n",
    "    st.markdown(\"<table>\"\\\n",
    "                \"<tr>\"\\\n",
    "                \"<th>Key</th>\"\\\n",
    "                \"<th>Description</th>\"\n",
    "                \"</tr>\"\\\n",
    "                \"<tr>\"\\\n",
    "                \"<td>acousticness</td>\"\\\n",
    "                \"<td>Confidence measure from 0.0 to 1.0 whether the track is acoustic.</td>\"\\\n",
    "                \"</tr>\"\\\n",
    "                \"<tr>\"\\\n",
    "                \"<td>danceability</td>\"\\\n",
    "                \"<td>Describes how suitable a track is for dancing based on  \\\n",
    "                musical elements including tempo, rhythm stability, beat strength, and overall regularity.</td>\"\\\n",
    "                \"</tr>\"\\\n",
    "                \"<tr>\"\\\n",
    "                \"<td>energy</td>\"\\\n",
    "                \"<td>Represents a perceptual measure of intensity and activity.</td>\"\\\n",
    "                \"</tr>\"\\\n",
    "                \"<tr>\"\\\n",
    "                \"<td>instrumentalness</td>\"\\\n",
    "                \"<td>Predicts whether a track contains no vocals.</td>\"\\\n",
    "                \"</tr>\"\\\n",
    "                \"<tr>\"\\\n",
    "                \"<td>liveness</td>\"\\\n",
    "                \"<td>Detects the presence of an audience in the recording.</td>\"\\\n",
    "                \"</tr>\"\\\n",
    "                \"<tr>\"\\\n",
    "                \"<td>loudness</td>\"\\\n",
    "                \"<td>Overall loudness of the track in decibels</td>\"\\\n",
    "                \"</tr>\"\\\n",
    "                \"<tr>\"\\\n",
    "                \"<td>speechiness</td>\"\\\n",
    "                \"<td>Detects the presence of spoken words in a track.</td>\"\\\n",
    "                \"</tr>\"\\\n",
    "                \"<tr>\"\\\n",
    "                \"<td>valence</td>\"\\\n",
    "                \"<td>Describes the musical positiveness conveyed by a track.</td>\"\\\n",
    "                \"</tr>\"\\\n",
    "                \"<tr>\"\\\n",
    "                \"<td>tempo</td>\"\\\n",
    "                \"<td>The overall estimated tempo of a track in beats per minute.</td>\"\\\n",
    "                \"</tr>\"\\\n",
    "                \"<tr>\"\\\n",
    "                \"<td>id</td>\"\\\n",
    "                \"<td>Spotify ID for the track.</td>\"\\\n",
    "                \"</tr>\"\\\n",
    "                \"</table>\",unsafe_allow_html=True)"
   ]
  },
  {
   "cell_type": "code",
   "execution_count": 8,
   "metadata": {},
   "outputs": [],
   "source": [
    "if section == \"Modelling for Genre Classfication\":\n",
    "    st.subheader('Modelling for Genre Classification')"
   ]
  },
  {
   "cell_type": "code",
   "execution_count": 9,
   "metadata": {},
   "outputs": [],
   "source": [
    "if section == \"Evaluation\":\n",
    "    st.subheader('Evaluation')"
   ]
  },
  {
   "cell_type": "code",
   "execution_count": 10,
   "metadata": {},
   "outputs": [],
   "source": [
    "if section == \"Recommender Engine\":\n",
    "    st.subheader(\"Recommender Engine\")\n",
    "    title = st.text_input('Song Title', 'Maybe The Night')\n",
    "    st.write('You entered the song:',title,\".You might also like these songs.\")\n",
    "    ##Embed Spotify Playlist \n",
    "    components.html('<iframe src=\"https://open.spotify.com/embed/playlist/4PNDmI28zbq4GwMqO4Hyd4\" width=\"300\" height=\"950\" frameborder=\"0\" allowtransparency=\"true\" allow=\"encrypted-media\"></iframe>')"
   ]
  },
  {
   "cell_type": "code",
   "execution_count": 11,
   "metadata": {},
   "outputs": [],
   "source": [
    "if section == \"Strategy\":\n",
    "    st.subheader(\"Strategy\")"
   ]
  },
  {
   "cell_type": "code",
   "execution_count": null,
   "metadata": {},
   "outputs": [],
   "source": []
  }
 ],
 "metadata": {
  "kernelspec": {
   "display_name": "Python 3",
   "language": "python",
   "name": "python3"
  },
  "language_info": {
   "codemirror_mode": {
    "name": "ipython",
    "version": 3
   },
   "file_extension": ".py",
   "mimetype": "text/x-python",
   "name": "python",
   "nbconvert_exporter": "python",
   "pygments_lexer": "ipython3",
   "version": "3.8.3"
  }
 },
 "nbformat": 4,
 "nbformat_minor": 4
}
